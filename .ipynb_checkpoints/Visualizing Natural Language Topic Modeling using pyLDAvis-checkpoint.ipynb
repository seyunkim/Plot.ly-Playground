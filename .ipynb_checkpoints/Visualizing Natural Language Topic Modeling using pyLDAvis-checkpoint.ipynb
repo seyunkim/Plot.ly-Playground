{
 "cells": [
  {
   "cell_type": "markdown",
   "metadata": {},
   "source": [
    "## Visualization with pyLDAviz \n",
    "\n",
    "**Must be ran on Python 2.7 for the dependency packages to work**"
   ]
  },
  {
   "cell_type": "code",
   "execution_count": 1,
   "metadata": {},
   "outputs": [
    {
     "name": "stderr",
     "output_type": "stream",
     "text": [
      "[ERROR] graphlab.connect.main:  ========================================\n",
      "GraphLab Create requires a license to use. To get a non-commercial  license for academic use only, visit https://turi.com/register.\n",
      "=================================================\n",
      "\n",
      "[ERROR] graphlab.connect.main:  ========================================\n",
      "GraphLab Create requires a license to use. To get a non-commercial  license for academic use only, visit https://turi.com/register.\n",
      "=================================================\n",
      "\n",
      "[ERROR] graphlab.connect.main:  ========================================\n",
      "GraphLab Create requires a license to use. To get a non-commercial  license for academic use only, visit https://turi.com/register.\n",
      "=================================================\n",
      "\n",
      "[ERROR] graphlab.connect.main:  ========================================\n",
      "GraphLab Create requires a license to use. To get a non-commercial  license for academic use only, visit https://turi.com/register.\n",
      "=================================================\n",
      "\n",
      "[ERROR] graphlab.connect.main:  ========================================\n",
      "GraphLab Create requires a license to use. To get a non-commercial  license for academic use only, visit https://turi.com/register.\n",
      "=================================================\n",
      "\n",
      "[ERROR] graphlab.connect.main:  ========================================\n",
      "GraphLab Create requires a license to use. To get a non-commercial  license for academic use only, visit https://turi.com/register.\n",
      "=================================================\n",
      "\n",
      "[ERROR] graphlab.connect.main:  ========================================\n",
      "GraphLab Create requires a license to use. To get a non-commercial  license for academic use only, visit https://turi.com/register.\n",
      "=================================================\n",
      "\n",
      "[ERROR] graphlab.connect.main:  ========================================\n",
      "GraphLab Create requires a license to use. To get a non-commercial  license for academic use only, visit https://turi.com/register.\n",
      "=================================================\n",
      "\n",
      "[ERROR] graphlab.connect.main:  ========================================\n",
      "GraphLab Create requires a license to use. To get a non-commercial  license for academic use only, visit https://turi.com/register.\n",
      "=================================================\n",
      "\n",
      "[ERROR] graphlab.connect.main:  ========================================\n",
      "GraphLab Create requires a license to use. To get a non-commercial  license for academic use only, visit https://turi.com/register.\n",
      "=================================================\n",
      "\n",
      "[ERROR] graphlab.connect.main:  ========================================\n",
      "GraphLab Create requires a license to use. To get a non-commercial  license for academic use only, visit https://turi.com/register.\n",
      "=================================================\n",
      "\n"
     ]
    }
   ],
   "source": [
    "import graphlab as gl\n",
    "import pyLDAvis\n",
    "import pyLDAvis.graphlab"
   ]
  },
  {
   "cell_type": "code",
   "execution_count": null,
   "metadata": {},
   "outputs": [],
   "source": []
  }
 ],
 "metadata": {
  "kernelspec": {
   "display_name": "Python 2",
   "language": "python",
   "name": "python2"
  },
  "language_info": {
   "codemirror_mode": {
    "name": "ipython",
    "version": 2
   },
   "file_extension": ".py",
   "mimetype": "text/x-python",
   "name": "python",
   "nbconvert_exporter": "python",
   "pygments_lexer": "ipython2",
   "version": "2.7.14"
  }
 },
 "nbformat": 4,
 "nbformat_minor": 2
}
