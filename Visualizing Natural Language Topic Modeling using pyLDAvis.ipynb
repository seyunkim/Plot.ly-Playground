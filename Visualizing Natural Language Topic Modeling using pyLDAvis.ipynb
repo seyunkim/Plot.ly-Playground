{
 "cells": [
  {
   "cell_type": "markdown",
   "metadata": {},
   "source": [
    "## Visualization with pyLDAviz \n",
    "\n",
    "* Must be ran on Python 2.7 for the dependency packages to work *\n",
    "Running the model will take a little less than 30 minutes to get done with 3000 iterations"
   ]
  },
  {
   "cell_type": "code",
   "execution_count": 1,
   "metadata": {},
   "outputs": [
    {
     "name": "stderr",
     "output_type": "stream",
     "text": [
      "[INFO] graphlab.cython.cy_server: GraphLab Create v2.1 started. Logging: /tmp/graphlab_server_1519941149.log\n"
     ]
    },
    {
     "name": "stdout",
     "output_type": "stream",
     "text": [
      "This non-commercial license of GraphLab Create for academic use is assigned to seyunkim@usc.edu and will expire on March 01, 2019.\n"
     ]
    }
   ],
   "source": [
    "import graphlab as gl\n",
    "import pyLDAvis\n",
    "import pyLDAvis.graphlab"
   ]
  },
  {
   "cell_type": "code",
   "execution_count": 2,
   "metadata": {},
   "outputs": [],
   "source": [
    "# turn on automatic rendering of visualizations\n",
    "pyLDAvis.enable_notebook()"
   ]
  },
  {
   "cell_type": "code",
   "execution_count": 3,
   "metadata": {},
   "outputs": [
    {
     "data": {
      "text/html": [
       "<pre>Downloading http://s3.amazonaws.com/GraphLab-Datasets/nytimes/dir_archive.ini to /var/tmp/graphlab-seyunkim/85928/342e0416-c23c-4265-831d-f3114a7aff61.ini</pre>"
      ],
      "text/plain": [
       "Downloading http://s3.amazonaws.com/GraphLab-Datasets/nytimes/dir_archive.ini to /var/tmp/graphlab-seyunkim/85928/342e0416-c23c-4265-831d-f3114a7aff61.ini"
      ]
     },
     "metadata": {},
     "output_type": "display_data"
    },
    {
     "data": {
      "text/html": [
       "<pre>Downloading http://s3.amazonaws.com/GraphLab-Datasets/nytimes/objects.bin to /var/tmp/graphlab-seyunkim/85928/2fd59350-5a62-49cc-931c-95258720398e.bin</pre>"
      ],
      "text/plain": [
       "Downloading http://s3.amazonaws.com/GraphLab-Datasets/nytimes/objects.bin to /var/tmp/graphlab-seyunkim/85928/2fd59350-5a62-49cc-931c-95258720398e.bin"
      ]
     },
     "metadata": {},
     "output_type": "display_data"
    },
    {
     "data": {
      "text/html": [
       "<pre>Downloading http://s3.amazonaws.com/GraphLab-Datasets/nytimes/m_2ae8944a.sidx to /var/tmp/graphlab-seyunkim/85928/eec34029-feee-4494-858e-7ec1219cb41c.sidx</pre>"
      ],
      "text/plain": [
       "Downloading http://s3.amazonaws.com/GraphLab-Datasets/nytimes/m_2ae8944a.sidx to /var/tmp/graphlab-seyunkim/85928/eec34029-feee-4494-858e-7ec1219cb41c.sidx"
      ]
     },
     "metadata": {},
     "output_type": "display_data"
    }
   ],
   "source": [
    "docs = gl.SArray('http://s3.amazonaws.com/GraphLab-Datasets/nytimes')"
   ]
  },
  {
   "cell_type": "code",
   "execution_count": 4,
   "metadata": {},
   "outputs": [],
   "source": [
    "gl.topic_model.create?"
   ]
  },
  {
   "cell_type": "code",
   "execution_count": 12,
   "metadata": {},
   "outputs": [
    {
     "data": {
      "text/html": [
       "<pre>Learning a topic model</pre>"
      ],
      "text/plain": [
       "Learning a topic model"
      ]
     },
     "metadata": {},
     "output_type": "display_data"
    },
    {
     "data": {
      "text/html": [
       "<pre>       Number of documents     10000</pre>"
      ],
      "text/plain": [
       "       Number of documents     10000"
      ]
     },
     "metadata": {},
     "output_type": "display_data"
    },
    {
     "data": {
      "text/html": [
       "<pre>           Vocabulary size     63958</pre>"
      ],
      "text/plain": [
       "           Vocabulary size     63958"
      ]
     },
     "metadata": {},
     "output_type": "display_data"
    },
    {
     "data": {
      "text/html": [
       "<pre>   Running collapsed Gibbs sampling</pre>"
      ],
      "text/plain": [
       "   Running collapsed Gibbs sampling"
      ]
     },
     "metadata": {},
     "output_type": "display_data"
    },
    {
     "data": {
      "text/html": [
       "<pre>+-----------+---------------+----------------+-----------------+</pre>"
      ],
      "text/plain": [
       "+-----------+---------------+----------------+-----------------+"
      ]
     },
     "metadata": {},
     "output_type": "display_data"
    },
    {
     "data": {
      "text/html": [
       "<pre>| Iteration | Elapsed Time  | Tokens/Second  | Est. Perplexity |</pre>"
      ],
      "text/plain": [
       "| Iteration | Elapsed Time  | Tokens/Second  | Est. Perplexity |"
      ]
     },
     "metadata": {},
     "output_type": "display_data"
    },
    {
     "data": {
      "text/html": [
       "<pre>+-----------+---------------+----------------+-----------------+</pre>"
      ],
      "text/plain": [
       "+-----------+---------------+----------------+-----------------+"
      ]
     },
     "metadata": {},
     "output_type": "display_data"
    },
    {
     "data": {
      "text/html": [
       "<pre>| 10        | 2.04s         | 1.10102e+07    | 0               |</pre>"
      ],
      "text/plain": [
       "| 10        | 2.04s         | 1.10102e+07    | 0               |"
      ]
     },
     "metadata": {},
     "output_type": "display_data"
    },
    {
     "data": {
      "text/html": [
       "<pre>| 20        | 3.85s         | 1.24549e+07    | 0               |</pre>"
      ],
      "text/plain": [
       "| 20        | 3.85s         | 1.24549e+07    | 0               |"
      ]
     },
     "metadata": {},
     "output_type": "display_data"
    },
    {
     "data": {
      "text/html": [
       "<pre>| 30        | 5.60s         | 1.18162e+07    | 0               |</pre>"
      ],
      "text/plain": [
       "| 30        | 5.60s         | 1.18162e+07    | 0               |"
      ]
     },
     "metadata": {},
     "output_type": "display_data"
    },
    {
     "data": {
      "text/html": [
       "<pre>| 40        | 7.41s         | 1.23395e+07    | 0               |</pre>"
      ],
      "text/plain": [
       "| 40        | 7.41s         | 1.23395e+07    | 0               |"
      ]
     },
     "metadata": {},
     "output_type": "display_data"
    },
    {
     "data": {
      "text/html": [
       "<pre>| 50        | 9.23s         | 1.12721e+07    | 0               |</pre>"
      ],
      "text/plain": [
       "| 50        | 9.23s         | 1.12721e+07    | 0               |"
      ]
     },
     "metadata": {},
     "output_type": "display_data"
    },
    {
     "data": {
      "text/html": [
       "<pre>| 60        | 11.07s        | 1.17462e+07    | 0               |</pre>"
      ],
      "text/plain": [
       "| 60        | 11.07s        | 1.17462e+07    | 0               |"
      ]
     },
     "metadata": {},
     "output_type": "display_data"
    },
    {
     "data": {
      "text/html": [
       "<pre>| 70        | 12.88s        | 1.17786e+07    | 0               |</pre>"
      ],
      "text/plain": [
       "| 70        | 12.88s        | 1.17786e+07    | 0               |"
      ]
     },
     "metadata": {},
     "output_type": "display_data"
    },
    {
     "data": {
      "text/html": [
       "<pre>| 80        | 14.76s        | 1.20251e+07    | 0               |</pre>"
      ],
      "text/plain": [
       "| 80        | 14.76s        | 1.20251e+07    | 0               |"
      ]
     },
     "metadata": {},
     "output_type": "display_data"
    },
    {
     "data": {
      "text/html": [
       "<pre>| 90        | 16.76s        | 1.20895e+07    | 0               |</pre>"
      ],
      "text/plain": [
       "| 90        | 16.76s        | 1.20895e+07    | 0               |"
      ]
     },
     "metadata": {},
     "output_type": "display_data"
    },
    {
     "data": {
      "text/html": [
       "<pre>| 100       | 18.59s        | 1.1267e+07     | 0               |</pre>"
      ],
      "text/plain": [
       "| 100       | 18.59s        | 1.1267e+07     | 0               |"
      ]
     },
     "metadata": {},
     "output_type": "display_data"
    },
    {
     "data": {
      "text/html": [
       "<pre>| 110       | 20.48s        | 1.2107e+07     | 0               |</pre>"
      ],
      "text/plain": [
       "| 110       | 20.48s        | 1.2107e+07     | 0               |"
      ]
     },
     "metadata": {},
     "output_type": "display_data"
    },
    {
     "data": {
      "text/html": [
       "<pre>| 120       | 22.34s        | 1.19328e+07    | 0               |</pre>"
      ],
      "text/plain": [
       "| 120       | 22.34s        | 1.19328e+07    | 0               |"
      ]
     },
     "metadata": {},
     "output_type": "display_data"
    },
    {
     "data": {
      "text/html": [
       "<pre>| 130       | 24.23s        | 1.01879e+07    | 0               |</pre>"
      ],
      "text/plain": [
       "| 130       | 24.23s        | 1.01879e+07    | 0               |"
      ]
     },
     "metadata": {},
     "output_type": "display_data"
    },
    {
     "data": {
      "text/html": [
       "<pre>| 140       | 26.10s        | 1.10151e+07    | 0               |</pre>"
      ],
      "text/plain": [
       "| 140       | 26.10s        | 1.10151e+07    | 0               |"
      ]
     },
     "metadata": {},
     "output_type": "display_data"
    },
    {
     "data": {
      "text/html": [
       "<pre>| 150       | 28.08s        | 1.21661e+07    | 0               |</pre>"
      ],
      "text/plain": [
       "| 150       | 28.08s        | 1.21661e+07    | 0               |"
      ]
     },
     "metadata": {},
     "output_type": "display_data"
    },
    {
     "data": {
      "text/html": [
       "<pre>| 160       | 30.04s        | 1.10559e+07    | 0               |</pre>"
      ],
      "text/plain": [
       "| 160       | 30.04s        | 1.10559e+07    | 0               |"
      ]
     },
     "metadata": {},
     "output_type": "display_data"
    },
    {
     "data": {
      "text/html": [
       "<pre>| 170       | 32.02s        | 1.13085e+07    | 0               |</pre>"
      ],
      "text/plain": [
       "| 170       | 32.02s        | 1.13085e+07    | 0               |"
      ]
     },
     "metadata": {},
     "output_type": "display_data"
    },
    {
     "data": {
      "text/html": [
       "<pre>| 180       | 34.06s        | 1.08698e+07    | 0               |</pre>"
      ],
      "text/plain": [
       "| 180       | 34.06s        | 1.08698e+07    | 0               |"
      ]
     },
     "metadata": {},
     "output_type": "display_data"
    },
    {
     "data": {
      "text/html": [
       "<pre>| 190       | 35.99s        | 1.18397e+07    | 0               |</pre>"
      ],
      "text/plain": [
       "| 190       | 35.99s        | 1.18397e+07    | 0               |"
      ]
     },
     "metadata": {},
     "output_type": "display_data"
    },
    {
     "data": {
      "text/html": [
       "<pre>| 200       | 38.09s        | 1.1206e+07     | 0               |</pre>"
      ],
      "text/plain": [
       "| 200       | 38.09s        | 1.1206e+07     | 0               |"
      ]
     },
     "metadata": {},
     "output_type": "display_data"
    },
    {
     "data": {
      "text/html": [
       "<pre>| 210       | 40.02s        | 1.12006e+07    | 0               |</pre>"
      ],
      "text/plain": [
       "| 210       | 40.02s        | 1.12006e+07    | 0               |"
      ]
     },
     "metadata": {},
     "output_type": "display_data"
    },
    {
     "data": {
      "text/html": [
       "<pre>| 220       | 42.03s        | 9.88281e+06    | 0               |</pre>"
      ],
      "text/plain": [
       "| 220       | 42.03s        | 9.88281e+06    | 0               |"
      ]
     },
     "metadata": {},
     "output_type": "display_data"
    },
    {
     "data": {
      "text/html": [
       "<pre>| 230       | 44.26s        | 9.94306e+06    | 0               |</pre>"
      ],
      "text/plain": [
       "| 230       | 44.26s        | 9.94306e+06    | 0               |"
      ]
     },
     "metadata": {},
     "output_type": "display_data"
    },
    {
     "data": {
      "text/html": [
       "<pre>| 240       | 46.48s        | 1.06754e+07    | 0               |</pre>"
      ],
      "text/plain": [
       "| 240       | 46.48s        | 1.06754e+07    | 0               |"
      ]
     },
     "metadata": {},
     "output_type": "display_data"
    },
    {
     "data": {
      "text/html": [
       "<pre>| 250       | 48.57s        | 1.00958e+07    | 0               |</pre>"
      ],
      "text/plain": [
       "| 250       | 48.57s        | 1.00958e+07    | 0               |"
      ]
     },
     "metadata": {},
     "output_type": "display_data"
    },
    {
     "data": {
      "text/html": [
       "<pre>| 260       | 50.45s        | 1.16967e+07    | 0               |</pre>"
      ],
      "text/plain": [
       "| 260       | 50.45s        | 1.16967e+07    | 0               |"
      ]
     },
     "metadata": {},
     "output_type": "display_data"
    },
    {
     "data": {
      "text/html": [
       "<pre>| 270       | 52.40s        | 1.09924e+07    | 0               |</pre>"
      ],
      "text/plain": [
       "| 270       | 52.40s        | 1.09924e+07    | 0               |"
      ]
     },
     "metadata": {},
     "output_type": "display_data"
    },
    {
     "data": {
      "text/html": [
       "<pre>| 280       | 54.29s        | 1.11753e+07    | 0               |</pre>"
      ],
      "text/plain": [
       "| 280       | 54.29s        | 1.11753e+07    | 0               |"
      ]
     },
     "metadata": {},
     "output_type": "display_data"
    },
    {
     "data": {
      "text/html": [
       "<pre>| 290       | 56.19s        | 1.13725e+07    | 0               |</pre>"
      ],
      "text/plain": [
       "| 290       | 56.19s        | 1.13725e+07    | 0               |"
      ]
     },
     "metadata": {},
     "output_type": "display_data"
    },
    {
     "data": {
      "text/html": [
       "<pre>| 300       | 58.07s        | 1.08737e+07    | 0               |</pre>"
      ],
      "text/plain": [
       "| 300       | 58.07s        | 1.08737e+07    | 0               |"
      ]
     },
     "metadata": {},
     "output_type": "display_data"
    },
    {
     "data": {
      "text/html": [
       "<pre>| 310       | 1m 0s         | 1.00335e+07    | 0               |</pre>"
      ],
      "text/plain": [
       "| 310       | 1m 0s         | 1.00335e+07    | 0               |"
      ]
     },
     "metadata": {},
     "output_type": "display_data"
    },
    {
     "data": {
      "text/html": [
       "<pre>| 320       | 1m 2s         | 1.17747e+07    | 0               |</pre>"
      ],
      "text/plain": [
       "| 320       | 1m 2s         | 1.17747e+07    | 0               |"
      ]
     },
     "metadata": {},
     "output_type": "display_data"
    },
    {
     "data": {
      "text/html": [
       "<pre>| 330       | 1m 4s         | 1.1974e+07     | 0               |</pre>"
      ],
      "text/plain": [
       "| 330       | 1m 4s         | 1.1974e+07     | 0               |"
      ]
     },
     "metadata": {},
     "output_type": "display_data"
    },
    {
     "data": {
      "text/html": [
       "<pre>| 340       | 1m 5s         | 1.18763e+07    | 0               |</pre>"
      ],
      "text/plain": [
       "| 340       | 1m 5s         | 1.18763e+07    | 0               |"
      ]
     },
     "metadata": {},
     "output_type": "display_data"
    },
    {
     "data": {
      "text/html": [
       "<pre>| 350       | 1m 8s         | 1.10039e+07    | 0               |</pre>"
      ],
      "text/plain": [
       "| 350       | 1m 8s         | 1.10039e+07    | 0               |"
      ]
     },
     "metadata": {},
     "output_type": "display_data"
    },
    {
     "data": {
      "text/html": [
       "<pre>| 360       | 1m 10s        | 1.09099e+07    | 0               |</pre>"
      ],
      "text/plain": [
       "| 360       | 1m 10s        | 1.09099e+07    | 0               |"
      ]
     },
     "metadata": {},
     "output_type": "display_data"
    },
    {
     "data": {
      "text/html": [
       "<pre>| 370       | 1m 12s        | 1.24761e+07    | 0               |</pre>"
      ],
      "text/plain": [
       "| 370       | 1m 12s        | 1.24761e+07    | 0               |"
      ]
     },
     "metadata": {},
     "output_type": "display_data"
    },
    {
     "data": {
      "text/html": [
       "<pre>| 380       | 1m 13s        | 1.04755e+07    | 0               |</pre>"
      ],
      "text/plain": [
       "| 380       | 1m 13s        | 1.04755e+07    | 0               |"
      ]
     },
     "metadata": {},
     "output_type": "display_data"
    },
    {
     "data": {
      "text/html": [
       "<pre>| 390       | 1m 16s        | 9.67496e+06    | 0               |</pre>"
      ],
      "text/plain": [
       "| 390       | 1m 16s        | 9.67496e+06    | 0               |"
      ]
     },
     "metadata": {},
     "output_type": "display_data"
    },
    {
     "data": {
      "text/html": [
       "<pre>| 400       | 1m 17s        | 1.25092e+07    | 0               |</pre>"
      ],
      "text/plain": [
       "| 400       | 1m 17s        | 1.25092e+07    | 0               |"
      ]
     },
     "metadata": {},
     "output_type": "display_data"
    },
    {
     "data": {
      "text/html": [
       "<pre>| 410       | 1m 19s        | 1.19187e+07    | 0               |</pre>"
      ],
      "text/plain": [
       "| 410       | 1m 19s        | 1.19187e+07    | 0               |"
      ]
     },
     "metadata": {},
     "output_type": "display_data"
    },
    {
     "data": {
      "text/html": [
       "<pre>| 420       | 1m 21s        | 1.13534e+07    | 0               |</pre>"
      ],
      "text/plain": [
       "| 420       | 1m 21s        | 1.13534e+07    | 0               |"
      ]
     },
     "metadata": {},
     "output_type": "display_data"
    },
    {
     "data": {
      "text/html": [
       "<pre>| 430       | 1m 23s        | 9.04246e+06    | 0               |</pre>"
      ],
      "text/plain": [
       "| 430       | 1m 23s        | 9.04246e+06    | 0               |"
      ]
     },
     "metadata": {},
     "output_type": "display_data"
    },
    {
     "data": {
      "text/html": [
       "<pre>| 440       | 1m 26s        | 8.43428e+06    | 0               |</pre>"
      ],
      "text/plain": [
       "| 440       | 1m 26s        | 8.43428e+06    | 0               |"
      ]
     },
     "metadata": {},
     "output_type": "display_data"
    },
    {
     "data": {
      "text/html": [
       "<pre>| 450       | 1m 28s        | 1.03248e+07    | 0               |</pre>"
      ],
      "text/plain": [
       "| 450       | 1m 28s        | 1.03248e+07    | 0               |"
      ]
     },
     "metadata": {},
     "output_type": "display_data"
    },
    {
     "data": {
      "text/html": [
       "<pre>| 460       | 1m 30s        | 1.12391e+07    | 0               |</pre>"
      ],
      "text/plain": [
       "| 460       | 1m 30s        | 1.12391e+07    | 0               |"
      ]
     },
     "metadata": {},
     "output_type": "display_data"
    },
    {
     "data": {
      "text/html": [
       "<pre>| 470       | 1m 32s        | 1.0388e+07     | 0               |</pre>"
      ],
      "text/plain": [
       "| 470       | 1m 32s        | 1.0388e+07     | 0               |"
      ]
     },
     "metadata": {},
     "output_type": "display_data"
    },
    {
     "data": {
      "text/html": [
       "<pre>| 480       | 1m 34s        | 1.14159e+07    | 0               |</pre>"
      ],
      "text/plain": [
       "| 480       | 1m 34s        | 1.14159e+07    | 0               |"
      ]
     },
     "metadata": {},
     "output_type": "display_data"
    },
    {
     "data": {
      "text/html": [
       "<pre>| 490       | 1m 36s        | 1.15205e+07    | 0               |</pre>"
      ],
      "text/plain": [
       "| 490       | 1m 36s        | 1.15205e+07    | 0               |"
      ]
     },
     "metadata": {},
     "output_type": "display_data"
    },
    {
     "data": {
      "text/html": [
       "<pre>| 500       | 1m 38s        | 1.09382e+07    | 0               |</pre>"
      ],
      "text/plain": [
       "| 500       | 1m 38s        | 1.09382e+07    | 0               |"
      ]
     },
     "metadata": {},
     "output_type": "display_data"
    },
    {
     "data": {
      "text/html": [
       "<pre>| 510       | 1m 40s        | 1.16073e+07    | 0               |</pre>"
      ],
      "text/plain": [
       "| 510       | 1m 40s        | 1.16073e+07    | 0               |"
      ]
     },
     "metadata": {},
     "output_type": "display_data"
    },
    {
     "data": {
      "text/html": [
       "<pre>| 520       | 1m 42s        | 1.0372e+07     | 0               |</pre>"
      ],
      "text/plain": [
       "| 520       | 1m 42s        | 1.0372e+07     | 0               |"
      ]
     },
     "metadata": {},
     "output_type": "display_data"
    },
    {
     "data": {
      "text/html": [
       "<pre>| 530       | 1m 44s        | 1.09229e+07    | 0               |</pre>"
      ],
      "text/plain": [
       "| 530       | 1m 44s        | 1.09229e+07    | 0               |"
      ]
     },
     "metadata": {},
     "output_type": "display_data"
    },
    {
     "data": {
      "text/html": [
       "<pre>| 540       | 1m 46s        | 8.74895e+06    | 0               |</pre>"
      ],
      "text/plain": [
       "| 540       | 1m 46s        | 8.74895e+06    | 0               |"
      ]
     },
     "metadata": {},
     "output_type": "display_data"
    },
    {
     "data": {
      "text/html": [
       "<pre>| 550       | 1m 48s        | 1.18448e+07    | 0               |</pre>"
      ],
      "text/plain": [
       "| 550       | 1m 48s        | 1.18448e+07    | 0               |"
      ]
     },
     "metadata": {},
     "output_type": "display_data"
    },
    {
     "data": {
      "text/html": [
       "<pre>| 560       | 1m 50s        | 1.17001e+07    | 0               |</pre>"
      ],
      "text/plain": [
       "| 560       | 1m 50s        | 1.17001e+07    | 0               |"
      ]
     },
     "metadata": {},
     "output_type": "display_data"
    },
    {
     "data": {
      "text/html": [
       "<pre>| 570       | 1m 52s        | 1.19362e+07    | 0               |</pre>"
      ],
      "text/plain": [
       "| 570       | 1m 52s        | 1.19362e+07    | 0               |"
      ]
     },
     "metadata": {},
     "output_type": "display_data"
    },
    {
     "data": {
      "text/html": [
       "<pre>| 580       | 1m 54s        | 1.13036e+07    | 0               |</pre>"
      ],
      "text/plain": [
       "| 580       | 1m 54s        | 1.13036e+07    | 0               |"
      ]
     },
     "metadata": {},
     "output_type": "display_data"
    },
    {
     "data": {
      "text/html": [
       "<pre>| 590       | 1m 56s        | 1.01746e+07    | 0               |</pre>"
      ],
      "text/plain": [
       "| 590       | 1m 56s        | 1.01746e+07    | 0               |"
      ]
     },
     "metadata": {},
     "output_type": "display_data"
    },
    {
     "data": {
      "text/html": [
       "<pre>| 600       | 1m 58s        | 1.10397e+07    | 0               |</pre>"
      ],
      "text/plain": [
       "| 600       | 1m 58s        | 1.10397e+07    | 0               |"
      ]
     },
     "metadata": {},
     "output_type": "display_data"
    },
    {
     "data": {
      "text/html": [
       "<pre>| 610       | 2m 0s         | 1.09166e+07    | 0               |</pre>"
      ],
      "text/plain": [
       "| 610       | 2m 0s         | 1.09166e+07    | 0               |"
      ]
     },
     "metadata": {},
     "output_type": "display_data"
    },
    {
     "data": {
      "text/html": [
       "<pre>| 620       | 2m 2s         | 1.17543e+07    | 0               |</pre>"
      ],
      "text/plain": [
       "| 620       | 2m 2s         | 1.17543e+07    | 0               |"
      ]
     },
     "metadata": {},
     "output_type": "display_data"
    },
    {
     "data": {
      "text/html": [
       "<pre>| 630       | 2m 4s         | 1.15873e+07    | 0               |</pre>"
      ],
      "text/plain": [
       "| 630       | 2m 4s         | 1.15873e+07    | 0               |"
      ]
     },
     "metadata": {},
     "output_type": "display_data"
    },
    {
     "data": {
      "text/html": [
       "<pre>| 640       | 2m 6s         | 1.03451e+07    | 0               |</pre>"
      ],
      "text/plain": [
       "| 640       | 2m 6s         | 1.03451e+07    | 0               |"
      ]
     },
     "metadata": {},
     "output_type": "display_data"
    },
    {
     "data": {
      "text/html": [
       "<pre>| 650       | 2m 8s         | 1.12534e+07    | 0               |</pre>"
      ],
      "text/plain": [
       "| 650       | 2m 8s         | 1.12534e+07    | 0               |"
      ]
     },
     "metadata": {},
     "output_type": "display_data"
    },
    {
     "data": {
      "text/html": [
       "<pre>| 660       | 2m 10s        | 1.03559e+07    | 0               |</pre>"
      ],
      "text/plain": [
       "| 660       | 2m 10s        | 1.03559e+07    | 0               |"
      ]
     },
     "metadata": {},
     "output_type": "display_data"
    },
    {
     "data": {
      "text/html": [
       "<pre>| 670       | 2m 12s        | 1.14736e+07    | 0               |</pre>"
      ],
      "text/plain": [
       "| 670       | 2m 12s        | 1.14736e+07    | 0               |"
      ]
     },
     "metadata": {},
     "output_type": "display_data"
    },
    {
     "data": {
      "text/html": [
       "<pre>| 680       | 2m 14s        | 1.19749e+07    | 0               |</pre>"
      ],
      "text/plain": [
       "| 680       | 2m 14s        | 1.19749e+07    | 0               |"
      ]
     },
     "metadata": {},
     "output_type": "display_data"
    },
    {
     "data": {
      "text/html": [
       "<pre>| 690       | 2m 16s        | 1.15648e+07    | 0               |</pre>"
      ],
      "text/plain": [
       "| 690       | 2m 16s        | 1.15648e+07    | 0               |"
      ]
     },
     "metadata": {},
     "output_type": "display_data"
    },
    {
     "data": {
      "text/html": [
       "<pre>| 700       | 2m 17s        | 1.07943e+07    | 0               |</pre>"
      ],
      "text/plain": [
       "| 700       | 2m 17s        | 1.07943e+07    | 0               |"
      ]
     },
     "metadata": {},
     "output_type": "display_data"
    },
    {
     "data": {
      "text/html": [
       "<pre>| 710       | 2m 19s        | 1.10922e+07    | 0               |</pre>"
      ],
      "text/plain": [
       "| 710       | 2m 19s        | 1.10922e+07    | 0               |"
      ]
     },
     "metadata": {},
     "output_type": "display_data"
    },
    {
     "data": {
      "text/html": [
       "<pre>| 720       | 2m 21s        | 1.21737e+07    | 0               |</pre>"
      ],
      "text/plain": [
       "| 720       | 2m 21s        | 1.21737e+07    | 0               |"
      ]
     },
     "metadata": {},
     "output_type": "display_data"
    },
    {
     "data": {
      "text/html": [
       "<pre>| 730       | 2m 23s        | 1.18272e+07    | 0               |</pre>"
      ],
      "text/plain": [
       "| 730       | 2m 23s        | 1.18272e+07    | 0               |"
      ]
     },
     "metadata": {},
     "output_type": "display_data"
    },
    {
     "data": {
      "text/html": [
       "<pre>| 740       | 2m 25s        | 1.22779e+07    | 0               |</pre>"
      ],
      "text/plain": [
       "| 740       | 2m 25s        | 1.22779e+07    | 0               |"
      ]
     },
     "metadata": {},
     "output_type": "display_data"
    },
    {
     "data": {
      "text/html": [
       "<pre>| 750       | 2m 27s        | 1.10649e+07    | 0               |</pre>"
      ],
      "text/plain": [
       "| 750       | 2m 27s        | 1.10649e+07    | 0               |"
      ]
     },
     "metadata": {},
     "output_type": "display_data"
    },
    {
     "data": {
      "text/html": [
       "<pre>| 760       | 2m 29s        | 1.15996e+07    | 0               |</pre>"
      ],
      "text/plain": [
       "| 760       | 2m 29s        | 1.15996e+07    | 0               |"
      ]
     },
     "metadata": {},
     "output_type": "display_data"
    },
    {
     "data": {
      "text/html": [
       "<pre>| 770       | 2m 31s        | 1.15644e+07    | 0               |</pre>"
      ],
      "text/plain": [
       "| 770       | 2m 31s        | 1.15644e+07    | 0               |"
      ]
     },
     "metadata": {},
     "output_type": "display_data"
    },
    {
     "data": {
      "text/html": [
       "<pre>| 780       | 2m 32s        | 1.18141e+07    | 0               |</pre>"
      ],
      "text/plain": [
       "| 780       | 2m 32s        | 1.18141e+07    | 0               |"
      ]
     },
     "metadata": {},
     "output_type": "display_data"
    },
    {
     "data": {
      "text/html": [
       "<pre>| 790       | 2m 34s        | 9.11009e+06    | 0               |</pre>"
      ],
      "text/plain": [
       "| 790       | 2m 34s        | 9.11009e+06    | 0               |"
      ]
     },
     "metadata": {},
     "output_type": "display_data"
    },
    {
     "data": {
      "text/html": [
       "<pre>| 800       | 2m 36s        | 1.03733e+07    | 0               |</pre>"
      ],
      "text/plain": [
       "| 800       | 2m 36s        | 1.03733e+07    | 0               |"
      ]
     },
     "metadata": {},
     "output_type": "display_data"
    },
    {
     "data": {
      "text/html": [
       "<pre>| 810       | 2m 38s        | 1.23012e+07    | 0               |</pre>"
      ],
      "text/plain": [
       "| 810       | 2m 38s        | 1.23012e+07    | 0               |"
      ]
     },
     "metadata": {},
     "output_type": "display_data"
    },
    {
     "data": {
      "text/html": [
       "<pre>| 820       | 2m 40s        | 1.0418e+07     | 0               |</pre>"
      ],
      "text/plain": [
       "| 820       | 2m 40s        | 1.0418e+07     | 0               |"
      ]
     },
     "metadata": {},
     "output_type": "display_data"
    },
    {
     "data": {
      "text/html": [
       "<pre>| 830       | 2m 42s        | 1.2053e+07     | 0               |</pre>"
      ],
      "text/plain": [
       "| 830       | 2m 42s        | 1.2053e+07     | 0               |"
      ]
     },
     "metadata": {},
     "output_type": "display_data"
    },
    {
     "data": {
      "text/html": [
       "<pre>| 840       | 2m 44s        | 1.12471e+07    | 0               |</pre>"
      ],
      "text/plain": [
       "| 840       | 2m 44s        | 1.12471e+07    | 0               |"
      ]
     },
     "metadata": {},
     "output_type": "display_data"
    },
    {
     "data": {
      "text/html": [
       "<pre>| 850       | 2m 46s        | 1.19541e+07    | 0               |</pre>"
      ],
      "text/plain": [
       "| 850       | 2m 46s        | 1.19541e+07    | 0               |"
      ]
     },
     "metadata": {},
     "output_type": "display_data"
    },
    {
     "data": {
      "text/html": [
       "<pre>| 860       | 2m 48s        | 1.21653e+07    | 0               |</pre>"
      ],
      "text/plain": [
       "| 860       | 2m 48s        | 1.21653e+07    | 0               |"
      ]
     },
     "metadata": {},
     "output_type": "display_data"
    },
    {
     "data": {
      "text/html": [
       "<pre>| 870       | 2m 50s        | 1.12605e+07    | 0               |</pre>"
      ],
      "text/plain": [
       "| 870       | 2m 50s        | 1.12605e+07    | 0               |"
      ]
     },
     "metadata": {},
     "output_type": "display_data"
    },
    {
     "data": {
      "text/html": [
       "<pre>| 880       | 2m 52s        | 1.0909e+07     | 0               |</pre>"
      ],
      "text/plain": [
       "| 880       | 2m 52s        | 1.0909e+07     | 0               |"
      ]
     },
     "metadata": {},
     "output_type": "display_data"
    },
    {
     "data": {
      "text/html": [
       "<pre>| 890       | 2m 54s        | 7.61972e+06    | 0               |</pre>"
      ],
      "text/plain": [
       "| 890       | 2m 54s        | 7.61972e+06    | 0               |"
      ]
     },
     "metadata": {},
     "output_type": "display_data"
    },
    {
     "data": {
      "text/html": [
       "<pre>| 900       | 2m 56s        | 1.19438e+07    | 0               |</pre>"
      ],
      "text/plain": [
       "| 900       | 2m 56s        | 1.19438e+07    | 0               |"
      ]
     },
     "metadata": {},
     "output_type": "display_data"
    },
    {
     "data": {
      "text/html": [
       "<pre>| 910       | 2m 58s        | 1.13351e+07    | 0               |</pre>"
      ],
      "text/plain": [
       "| 910       | 2m 58s        | 1.13351e+07    | 0               |"
      ]
     },
     "metadata": {},
     "output_type": "display_data"
    },
    {
     "data": {
      "text/html": [
       "<pre>| 920       | 2m 59s        | 1.21122e+07    | 0               |</pre>"
      ],
      "text/plain": [
       "| 920       | 2m 59s        | 1.21122e+07    | 0               |"
      ]
     },
     "metadata": {},
     "output_type": "display_data"
    },
    {
     "data": {
      "text/html": [
       "<pre>| 930       | 3m 1s         | 1.20005e+07    | 0               |</pre>"
      ],
      "text/plain": [
       "| 930       | 3m 1s         | 1.20005e+07    | 0               |"
      ]
     },
     "metadata": {},
     "output_type": "display_data"
    },
    {
     "data": {
      "text/html": [
       "<pre>| 940       | 3m 3s         | 1.16942e+07    | 0               |</pre>"
      ],
      "text/plain": [
       "| 940       | 3m 3s         | 1.16942e+07    | 0               |"
      ]
     },
     "metadata": {},
     "output_type": "display_data"
    },
    {
     "data": {
      "text/html": [
       "<pre>| 950       | 3m 5s         | 1.06438e+07    | 0               |</pre>"
      ],
      "text/plain": [
       "| 950       | 3m 5s         | 1.06438e+07    | 0               |"
      ]
     },
     "metadata": {},
     "output_type": "display_data"
    },
    {
     "data": {
      "text/html": [
       "<pre>| 960       | 3m 7s         | 1.11901e+07    | 0               |</pre>"
      ],
      "text/plain": [
       "| 960       | 3m 7s         | 1.11901e+07    | 0               |"
      ]
     },
     "metadata": {},
     "output_type": "display_data"
    },
    {
     "data": {
      "text/html": [
       "<pre>| 970       | 3m 9s         | 1.20756e+07    | 0               |</pre>"
      ],
      "text/plain": [
       "| 970       | 3m 9s         | 1.20756e+07    | 0               |"
      ]
     },
     "metadata": {},
     "output_type": "display_data"
    },
    {
     "data": {
      "text/html": [
       "<pre>| 980       | 3m 11s        | 1.24363e+07    | 0               |</pre>"
      ],
      "text/plain": [
       "| 980       | 3m 11s        | 1.24363e+07    | 0               |"
      ]
     },
     "metadata": {},
     "output_type": "display_data"
    },
    {
     "data": {
      "text/html": [
       "<pre>| 990       | 3m 13s        | 1.04247e+07    | 0               |</pre>"
      ],
      "text/plain": [
       "| 990       | 3m 13s        | 1.04247e+07    | 0               |"
      ]
     },
     "metadata": {},
     "output_type": "display_data"
    },
    {
     "data": {
      "text/html": [
       "<pre>| 1000      | 3m 15s        | 1.23754e+07    | 0               |</pre>"
      ],
      "text/plain": [
       "| 1000      | 3m 15s        | 1.23754e+07    | 0               |"
      ]
     },
     "metadata": {},
     "output_type": "display_data"
    },
    {
     "data": {
      "text/html": [
       "<pre>| 1010      | 3m 17s        | 1.18071e+07    | 0               |</pre>"
      ],
      "text/plain": [
       "| 1010      | 3m 17s        | 1.18071e+07    | 0               |"
      ]
     },
     "metadata": {},
     "output_type": "display_data"
    },
    {
     "data": {
      "text/html": [
       "<pre>| 1020      | 3m 19s        | 1.13441e+07    | 0               |</pre>"
      ],
      "text/plain": [
       "| 1020      | 3m 19s        | 1.13441e+07    | 0               |"
      ]
     },
     "metadata": {},
     "output_type": "display_data"
    },
    {
     "data": {
      "text/html": [
       "<pre>| 1030      | 3m 20s        | 1.20243e+07    | 0               |</pre>"
      ],
      "text/plain": [
       "| 1030      | 3m 20s        | 1.20243e+07    | 0               |"
      ]
     },
     "metadata": {},
     "output_type": "display_data"
    },
    {
     "data": {
      "text/html": [
       "<pre>| 1040      | 3m 22s        | 1.15286e+07    | 0               |</pre>"
      ],
      "text/plain": [
       "| 1040      | 3m 22s        | 1.15286e+07    | 0               |"
      ]
     },
     "metadata": {},
     "output_type": "display_data"
    },
    {
     "data": {
      "text/html": [
       "<pre>| 1050      | 3m 24s        | 1.13258e+07    | 0               |</pre>"
      ],
      "text/plain": [
       "| 1050      | 3m 24s        | 1.13258e+07    | 0               |"
      ]
     },
     "metadata": {},
     "output_type": "display_data"
    },
    {
     "data": {
      "text/html": [
       "<pre>| 1060      | 3m 26s        | 1.18402e+07    | 0               |</pre>"
      ],
      "text/plain": [
       "| 1060      | 3m 26s        | 1.18402e+07    | 0               |"
      ]
     },
     "metadata": {},
     "output_type": "display_data"
    },
    {
     "data": {
      "text/html": [
       "<pre>| 1070      | 3m 28s        | 1.18491e+07    | 0               |</pre>"
      ],
      "text/plain": [
       "| 1070      | 3m 28s        | 1.18491e+07    | 0               |"
      ]
     },
     "metadata": {},
     "output_type": "display_data"
    },
    {
     "data": {
      "text/html": [
       "<pre>| 1080      | 3m 30s        | 1.25739e+07    | 0               |</pre>"
      ],
      "text/plain": [
       "| 1080      | 3m 30s        | 1.25739e+07    | 0               |"
      ]
     },
     "metadata": {},
     "output_type": "display_data"
    },
    {
     "data": {
      "text/html": [
       "<pre>| 1090      | 3m 32s        | 1.29454e+07    | 0               |</pre>"
      ],
      "text/plain": [
       "| 1090      | 3m 32s        | 1.29454e+07    | 0               |"
      ]
     },
     "metadata": {},
     "output_type": "display_data"
    },
    {
     "data": {
      "text/html": [
       "<pre>| 1100      | 3m 33s        | 1.2642e+07     | 0               |</pre>"
      ],
      "text/plain": [
       "| 1100      | 3m 33s        | 1.2642e+07     | 0               |"
      ]
     },
     "metadata": {},
     "output_type": "display_data"
    },
    {
     "data": {
      "text/html": [
       "<pre>| 1110      | 3m 35s        | 1.22014e+07    | 0               |</pre>"
      ],
      "text/plain": [
       "| 1110      | 3m 35s        | 1.22014e+07    | 0               |"
      ]
     },
     "metadata": {},
     "output_type": "display_data"
    },
    {
     "data": {
      "text/html": [
       "<pre>| 1120      | 3m 37s        | 1.19054e+07    | 0               |</pre>"
      ],
      "text/plain": [
       "| 1120      | 3m 37s        | 1.19054e+07    | 0               |"
      ]
     },
     "metadata": {},
     "output_type": "display_data"
    },
    {
     "data": {
      "text/html": [
       "<pre>| 1130      | 3m 39s        | 8.62262e+06    | 0               |</pre>"
      ],
      "text/plain": [
       "| 1130      | 3m 39s        | 8.62262e+06    | 0               |"
      ]
     },
     "metadata": {},
     "output_type": "display_data"
    },
    {
     "data": {
      "text/html": [
       "<pre>| 1140      | 3m 41s        | 1.02004e+07    | 0               |</pre>"
      ],
      "text/plain": [
       "| 1140      | 3m 41s        | 1.02004e+07    | 0               |"
      ]
     },
     "metadata": {},
     "output_type": "display_data"
    },
    {
     "data": {
      "text/html": [
       "<pre>| 1150      | 3m 43s        | 1.10146e+07    | 0               |</pre>"
      ],
      "text/plain": [
       "| 1150      | 3m 43s        | 1.10146e+07    | 0               |"
      ]
     },
     "metadata": {},
     "output_type": "display_data"
    },
    {
     "data": {
      "text/html": [
       "<pre>| 1160      | 3m 45s        | 1.2032e+07     | 0               |</pre>"
      ],
      "text/plain": [
       "| 1160      | 3m 45s        | 1.2032e+07     | 0               |"
      ]
     },
     "metadata": {},
     "output_type": "display_data"
    },
    {
     "data": {
      "text/html": [
       "<pre>| 1170      | 3m 47s        | 1.14623e+07    | 0               |</pre>"
      ],
      "text/plain": [
       "| 1170      | 3m 47s        | 1.14623e+07    | 0               |"
      ]
     },
     "metadata": {},
     "output_type": "display_data"
    },
    {
     "data": {
      "text/html": [
       "<pre>| 1180      | 3m 49s        | 1.14206e+07    | 0               |</pre>"
      ],
      "text/plain": [
       "| 1180      | 3m 49s        | 1.14206e+07    | 0               |"
      ]
     },
     "metadata": {},
     "output_type": "display_data"
    },
    {
     "data": {
      "text/html": [
       "<pre>| 1190      | 3m 51s        | 1.09677e+07    | 0               |</pre>"
      ],
      "text/plain": [
       "| 1190      | 3m 51s        | 1.09677e+07    | 0               |"
      ]
     },
     "metadata": {},
     "output_type": "display_data"
    },
    {
     "data": {
      "text/html": [
       "<pre>| 1200      | 3m 52s        | 1.25292e+07    | 0               |</pre>"
      ],
      "text/plain": [
       "| 1200      | 3m 52s        | 1.25292e+07    | 0               |"
      ]
     },
     "metadata": {},
     "output_type": "display_data"
    },
    {
     "data": {
      "text/html": [
       "<pre>| 1210      | 3m 54s        | 1.23061e+07    | 0               |</pre>"
      ],
      "text/plain": [
       "| 1210      | 3m 54s        | 1.23061e+07    | 0               |"
      ]
     },
     "metadata": {},
     "output_type": "display_data"
    },
    {
     "data": {
      "text/html": [
       "<pre>| 1220      | 3m 56s        | 1.26789e+07    | 0               |</pre>"
      ],
      "text/plain": [
       "| 1220      | 3m 56s        | 1.26789e+07    | 0               |"
      ]
     },
     "metadata": {},
     "output_type": "display_data"
    },
    {
     "data": {
      "text/html": [
       "<pre>| 1230      | 3m 58s        | 1.2003e+07     | 0               |</pre>"
      ],
      "text/plain": [
       "| 1230      | 3m 58s        | 1.2003e+07     | 0               |"
      ]
     },
     "metadata": {},
     "output_type": "display_data"
    },
    {
     "data": {
      "text/html": [
       "<pre>| 1240      | 4m 0s         | 1.17354e+07    | 0               |</pre>"
      ],
      "text/plain": [
       "| 1240      | 4m 0s         | 1.17354e+07    | 0               |"
      ]
     },
     "metadata": {},
     "output_type": "display_data"
    },
    {
     "data": {
      "text/html": [
       "<pre>| 1250      | 4m 2s         | 1.07668e+07    | 0               |</pre>"
      ],
      "text/plain": [
       "| 1250      | 4m 2s         | 1.07668e+07    | 0               |"
      ]
     },
     "metadata": {},
     "output_type": "display_data"
    },
    {
     "data": {
      "text/html": [
       "<pre>| 1260      | 4m 4s         | 1.22234e+07    | 0               |</pre>"
      ],
      "text/plain": [
       "| 1260      | 4m 4s         | 1.22234e+07    | 0               |"
      ]
     },
     "metadata": {},
     "output_type": "display_data"
    },
    {
     "data": {
      "text/html": [
       "<pre>| 1270      | 4m 5s         | 1.2439e+07     | 0               |</pre>"
      ],
      "text/plain": [
       "| 1270      | 4m 5s         | 1.2439e+07     | 0               |"
      ]
     },
     "metadata": {},
     "output_type": "display_data"
    },
    {
     "data": {
      "text/html": [
       "<pre>| 1280      | 4m 7s         | 1.21993e+07    | 0               |</pre>"
      ],
      "text/plain": [
       "| 1280      | 4m 7s         | 1.21993e+07    | 0               |"
      ]
     },
     "metadata": {},
     "output_type": "display_data"
    },
    {
     "data": {
      "text/html": [
       "<pre>| 1290      | 4m 9s         | 1.20048e+07    | 0               |</pre>"
      ],
      "text/plain": [
       "| 1290      | 4m 9s         | 1.20048e+07    | 0               |"
      ]
     },
     "metadata": {},
     "output_type": "display_data"
    },
    {
     "data": {
      "text/html": [
       "<pre>| 1300      | 4m 11s        | 1.17486e+07    | 0               |</pre>"
      ],
      "text/plain": [
       "| 1300      | 4m 11s        | 1.17486e+07    | 0               |"
      ]
     },
     "metadata": {},
     "output_type": "display_data"
    },
    {
     "data": {
      "text/html": [
       "<pre>| 1310      | 4m 13s        | 1.16063e+07    | 0               |</pre>"
      ],
      "text/plain": [
       "| 1310      | 4m 13s        | 1.16063e+07    | 0               |"
      ]
     },
     "metadata": {},
     "output_type": "display_data"
    },
    {
     "data": {
      "text/html": [
       "<pre>| 1320      | 4m 15s        | 1.13114e+07    | 0               |</pre>"
      ],
      "text/plain": [
       "| 1320      | 4m 15s        | 1.13114e+07    | 0               |"
      ]
     },
     "metadata": {},
     "output_type": "display_data"
    },
    {
     "data": {
      "text/html": [
       "<pre>| 1330      | 4m 17s        | 1.11473e+07    | 0               |</pre>"
      ],
      "text/plain": [
       "| 1330      | 4m 17s        | 1.11473e+07    | 0               |"
      ]
     },
     "metadata": {},
     "output_type": "display_data"
    },
    {
     "data": {
      "text/html": [
       "<pre>| 1340      | 4m 19s        | 1.15173e+07    | 0               |</pre>"
      ],
      "text/plain": [
       "| 1340      | 4m 19s        | 1.15173e+07    | 0               |"
      ]
     },
     "metadata": {},
     "output_type": "display_data"
    },
    {
     "data": {
      "text/html": [
       "<pre>| 1350      | 4m 21s        | 1.15494e+07    | 0               |</pre>"
      ],
      "text/plain": [
       "| 1350      | 4m 21s        | 1.15494e+07    | 0               |"
      ]
     },
     "metadata": {},
     "output_type": "display_data"
    },
    {
     "data": {
      "text/html": [
       "<pre>| 1360      | 4m 23s        | 1.09995e+07    | 0               |</pre>"
      ],
      "text/plain": [
       "| 1360      | 4m 23s        | 1.09995e+07    | 0               |"
      ]
     },
     "metadata": {},
     "output_type": "display_data"
    },
    {
     "data": {
      "text/html": [
       "<pre>| 1370      | 4m 24s        | 1.19479e+07    | 0               |</pre>"
      ],
      "text/plain": [
       "| 1370      | 4m 24s        | 1.19479e+07    | 0               |"
      ]
     },
     "metadata": {},
     "output_type": "display_data"
    },
    {
     "data": {
      "text/html": [
       "<pre>| 1380      | 4m 26s        | 1.1141e+07     | 0               |</pre>"
      ],
      "text/plain": [
       "| 1380      | 4m 26s        | 1.1141e+07     | 0               |"
      ]
     },
     "metadata": {},
     "output_type": "display_data"
    },
    {
     "data": {
      "text/html": [
       "<pre>| 1390      | 4m 28s        | 1.18211e+07    | 0               |</pre>"
      ],
      "text/plain": [
       "| 1390      | 4m 28s        | 1.18211e+07    | 0               |"
      ]
     },
     "metadata": {},
     "output_type": "display_data"
    },
    {
     "data": {
      "text/html": [
       "<pre>| 1400      | 4m 30s        | 1.1817e+07     | 0               |</pre>"
      ],
      "text/plain": [
       "| 1400      | 4m 30s        | 1.1817e+07     | 0               |"
      ]
     },
     "metadata": {},
     "output_type": "display_data"
    },
    {
     "data": {
      "text/html": [
       "<pre>| 1410      | 4m 32s        | 1.18366e+07    | 0               |</pre>"
      ],
      "text/plain": [
       "| 1410      | 4m 32s        | 1.18366e+07    | 0               |"
      ]
     },
     "metadata": {},
     "output_type": "display_data"
    },
    {
     "data": {
      "text/html": [
       "<pre>| 1420      | 4m 34s        | 1.08124e+07    | 0               |</pre>"
      ],
      "text/plain": [
       "| 1420      | 4m 34s        | 1.08124e+07    | 0               |"
      ]
     },
     "metadata": {},
     "output_type": "display_data"
    },
    {
     "data": {
      "text/html": [
       "<pre>| 1430      | 4m 36s        | 1.11734e+07    | 0               |</pre>"
      ],
      "text/plain": [
       "| 1430      | 4m 36s        | 1.11734e+07    | 0               |"
      ]
     },
     "metadata": {},
     "output_type": "display_data"
    },
    {
     "data": {
      "text/html": [
       "<pre>| 1440      | 4m 38s        | 1.169e+07      | 0               |</pre>"
      ],
      "text/plain": [
       "| 1440      | 4m 38s        | 1.169e+07      | 0               |"
      ]
     },
     "metadata": {},
     "output_type": "display_data"
    },
    {
     "data": {
      "text/html": [
       "<pre>| 1450      | 4m 40s        | 1.18249e+07    | 0               |</pre>"
      ],
      "text/plain": [
       "| 1450      | 4m 40s        | 1.18249e+07    | 0               |"
      ]
     },
     "metadata": {},
     "output_type": "display_data"
    },
    {
     "data": {
      "text/html": [
       "<pre>| 1460      | 4m 41s        | 1.20992e+07    | 0               |</pre>"
      ],
      "text/plain": [
       "| 1460      | 4m 41s        | 1.20992e+07    | 0               |"
      ]
     },
     "metadata": {},
     "output_type": "display_data"
    },
    {
     "data": {
      "text/html": [
       "<pre>| 1470      | 4m 43s        | 1.16594e+07    | 0               |</pre>"
      ],
      "text/plain": [
       "| 1470      | 4m 43s        | 1.16594e+07    | 0               |"
      ]
     },
     "metadata": {},
     "output_type": "display_data"
    },
    {
     "data": {
      "text/html": [
       "<pre>| 1480      | 4m 45s        | 1.20984e+07    | 0               |</pre>"
      ],
      "text/plain": [
       "| 1480      | 4m 45s        | 1.20984e+07    | 0               |"
      ]
     },
     "metadata": {},
     "output_type": "display_data"
    },
    {
     "data": {
      "text/html": [
       "<pre>| 1490      | 4m 47s        | 1.12493e+07    | 0               |</pre>"
      ],
      "text/plain": [
       "| 1490      | 4m 47s        | 1.12493e+07    | 0               |"
      ]
     },
     "metadata": {},
     "output_type": "display_data"
    },
    {
     "data": {
      "text/html": [
       "<pre>| 1500      | 4m 49s        | 9.89882e+06    | 0               |</pre>"
      ],
      "text/plain": [
       "| 1500      | 4m 49s        | 9.89882e+06    | 0               |"
      ]
     },
     "metadata": {},
     "output_type": "display_data"
    },
    {
     "data": {
      "text/html": [
       "<pre>| 1510      | 4m 51s        | 1.12402e+07    | 0               |</pre>"
      ],
      "text/plain": [
       "| 1510      | 4m 51s        | 1.12402e+07    | 0               |"
      ]
     },
     "metadata": {},
     "output_type": "display_data"
    },
    {
     "data": {
      "text/html": [
       "<pre>| 1520      | 4m 53s        | 1.16061e+07    | 0               |</pre>"
      ],
      "text/plain": [
       "| 1520      | 4m 53s        | 1.16061e+07    | 0               |"
      ]
     },
     "metadata": {},
     "output_type": "display_data"
    },
    {
     "data": {
      "text/html": [
       "<pre>| 1530      | 4m 55s        | 1.08502e+07    | 0               |</pre>"
      ],
      "text/plain": [
       "| 1530      | 4m 55s        | 1.08502e+07    | 0               |"
      ]
     },
     "metadata": {},
     "output_type": "display_data"
    },
    {
     "data": {
      "text/html": [
       "<pre>| 1540      | 4m 57s        | 1.18482e+07    | 0               |</pre>"
      ],
      "text/plain": [
       "| 1540      | 4m 57s        | 1.18482e+07    | 0               |"
      ]
     },
     "metadata": {},
     "output_type": "display_data"
    },
    {
     "data": {
      "text/html": [
       "<pre>| 1550      | 4m 59s        | 1.12694e+07    | 0               |</pre>"
      ],
      "text/plain": [
       "| 1550      | 4m 59s        | 1.12694e+07    | 0               |"
      ]
     },
     "metadata": {},
     "output_type": "display_data"
    },
    {
     "data": {
      "text/html": [
       "<pre>| 1560      | 5m 1s         | 9.32023e+06    | 0               |</pre>"
      ],
      "text/plain": [
       "| 1560      | 5m 1s         | 9.32023e+06    | 0               |"
      ]
     },
     "metadata": {},
     "output_type": "display_data"
    },
    {
     "data": {
      "text/html": [
       "<pre>| 1570      | 5m 3s         | 1.1412e+07     | 0               |</pre>"
      ],
      "text/plain": [
       "| 1570      | 5m 3s         | 1.1412e+07     | 0               |"
      ]
     },
     "metadata": {},
     "output_type": "display_data"
    },
    {
     "data": {
      "text/html": [
       "<pre>| 1580      | 5m 5s         | 1.1927e+07     | 0               |</pre>"
      ],
      "text/plain": [
       "| 1580      | 5m 5s         | 1.1927e+07     | 0               |"
      ]
     },
     "metadata": {},
     "output_type": "display_data"
    },
    {
     "data": {
      "text/html": [
       "<pre>| 1590      | 5m 7s         | 1.18681e+07    | 0               |</pre>"
      ],
      "text/plain": [
       "| 1590      | 5m 7s         | 1.18681e+07    | 0               |"
      ]
     },
     "metadata": {},
     "output_type": "display_data"
    },
    {
     "data": {
      "text/html": [
       "<pre>| 1600      | 5m 9s         | 1.13324e+07    | 0               |</pre>"
      ],
      "text/plain": [
       "| 1600      | 5m 9s         | 1.13324e+07    | 0               |"
      ]
     },
     "metadata": {},
     "output_type": "display_data"
    },
    {
     "data": {
      "text/html": [
       "<pre>| 1610      | 5m 11s        | 1.2128e+07     | 0               |</pre>"
      ],
      "text/plain": [
       "| 1610      | 5m 11s        | 1.2128e+07     | 0               |"
      ]
     },
     "metadata": {},
     "output_type": "display_data"
    },
    {
     "data": {
      "text/html": [
       "<pre>| 1620      | 5m 13s        | 9.33238e+06    | 0               |</pre>"
      ],
      "text/plain": [
       "| 1620      | 5m 13s        | 9.33238e+06    | 0               |"
      ]
     },
     "metadata": {},
     "output_type": "display_data"
    },
    {
     "data": {
      "text/html": [
       "<pre>| 1630      | 5m 15s        | 1.29697e+07    | 0               |</pre>"
      ],
      "text/plain": [
       "| 1630      | 5m 15s        | 1.29697e+07    | 0               |"
      ]
     },
     "metadata": {},
     "output_type": "display_data"
    },
    {
     "data": {
      "text/html": [
       "<pre>| 1640      | 5m 17s        | 9.50009e+06    | 0               |</pre>"
      ],
      "text/plain": [
       "| 1640      | 5m 17s        | 9.50009e+06    | 0               |"
      ]
     },
     "metadata": {},
     "output_type": "display_data"
    },
    {
     "data": {
      "text/html": [
       "<pre>| 1650      | 5m 19s        | 1.11007e+07    | 0               |</pre>"
      ],
      "text/plain": [
       "| 1650      | 5m 19s        | 1.11007e+07    | 0               |"
      ]
     },
     "metadata": {},
     "output_type": "display_data"
    },
    {
     "data": {
      "text/html": [
       "<pre>| 1660      | 5m 21s        | 1.20801e+07    | 0               |</pre>"
      ],
      "text/plain": [
       "| 1660      | 5m 21s        | 1.20801e+07    | 0               |"
      ]
     },
     "metadata": {},
     "output_type": "display_data"
    },
    {
     "data": {
      "text/html": [
       "<pre>| 1670      | 5m 22s        | 1.20589e+07    | 0               |</pre>"
      ],
      "text/plain": [
       "| 1670      | 5m 22s        | 1.20589e+07    | 0               |"
      ]
     },
     "metadata": {},
     "output_type": "display_data"
    },
    {
     "data": {
      "text/html": [
       "<pre>| 1680      | 5m 24s        | 1.06053e+07    | 0               |</pre>"
      ],
      "text/plain": [
       "| 1680      | 5m 24s        | 1.06053e+07    | 0               |"
      ]
     },
     "metadata": {},
     "output_type": "display_data"
    },
    {
     "data": {
      "text/html": [
       "<pre>| 1690      | 5m 26s        | 9.78202e+06    | 0               |</pre>"
      ],
      "text/plain": [
       "| 1690      | 5m 26s        | 9.78202e+06    | 0               |"
      ]
     },
     "metadata": {},
     "output_type": "display_data"
    },
    {
     "data": {
      "text/html": [
       "<pre>| 1700      | 5m 28s        | 1.2048e+07     | 0               |</pre>"
      ],
      "text/plain": [
       "| 1700      | 5m 28s        | 1.2048e+07     | 0               |"
      ]
     },
     "metadata": {},
     "output_type": "display_data"
    },
    {
     "data": {
      "text/html": [
       "<pre>| 1710      | 5m 30s        | 1.25726e+07    | 0               |</pre>"
      ],
      "text/plain": [
       "| 1710      | 5m 30s        | 1.25726e+07    | 0               |"
      ]
     },
     "metadata": {},
     "output_type": "display_data"
    },
    {
     "data": {
      "text/html": [
       "<pre>| 1720      | 5m 32s        | 1.23809e+07    | 0               |</pre>"
      ],
      "text/plain": [
       "| 1720      | 5m 32s        | 1.23809e+07    | 0               |"
      ]
     },
     "metadata": {},
     "output_type": "display_data"
    },
    {
     "data": {
      "text/html": [
       "<pre>| 1730      | 5m 34s        | 9.90368e+06    | 0               |</pre>"
      ],
      "text/plain": [
       "| 1730      | 5m 34s        | 9.90368e+06    | 0               |"
      ]
     },
     "metadata": {},
     "output_type": "display_data"
    },
    {
     "data": {
      "text/html": [
       "<pre>| 1740      | 5m 36s        | 9.9054e+06     | 0               |</pre>"
      ],
      "text/plain": [
       "| 1740      | 5m 36s        | 9.9054e+06     | 0               |"
      ]
     },
     "metadata": {},
     "output_type": "display_data"
    },
    {
     "data": {
      "text/html": [
       "<pre>| 1750      | 5m 38s        | 1.24116e+07    | 0               |</pre>"
      ],
      "text/plain": [
       "| 1750      | 5m 38s        | 1.24116e+07    | 0               |"
      ]
     },
     "metadata": {},
     "output_type": "display_data"
    },
    {
     "data": {
      "text/html": [
       "<pre>| 1760      | 5m 40s        | 1.13667e+07    | 0               |</pre>"
      ],
      "text/plain": [
       "| 1760      | 5m 40s        | 1.13667e+07    | 0               |"
      ]
     },
     "metadata": {},
     "output_type": "display_data"
    },
    {
     "data": {
      "text/html": [
       "<pre>| 1770      | 5m 42s        | 1.23857e+07    | 0               |</pre>"
      ],
      "text/plain": [
       "| 1770      | 5m 42s        | 1.23857e+07    | 0               |"
      ]
     },
     "metadata": {},
     "output_type": "display_data"
    },
    {
     "data": {
      "text/html": [
       "<pre>| 1780      | 5m 44s        | 1.24122e+07    | 0               |</pre>"
      ],
      "text/plain": [
       "| 1780      | 5m 44s        | 1.24122e+07    | 0               |"
      ]
     },
     "metadata": {},
     "output_type": "display_data"
    },
    {
     "data": {
      "text/html": [
       "<pre>| 1790      | 5m 46s        | 1.19759e+07    | 0               |</pre>"
      ],
      "text/plain": [
       "| 1790      | 5m 46s        | 1.19759e+07    | 0               |"
      ]
     },
     "metadata": {},
     "output_type": "display_data"
    },
    {
     "data": {
      "text/html": [
       "<pre>| 1800      | 5m 47s        | 1.24188e+07    | 0               |</pre>"
      ],
      "text/plain": [
       "| 1800      | 5m 47s        | 1.24188e+07    | 0               |"
      ]
     },
     "metadata": {},
     "output_type": "display_data"
    },
    {
     "data": {
      "text/html": [
       "<pre>| 1810      | 5m 49s        | 8.43735e+06    | 0               |</pre>"
      ],
      "text/plain": [
       "| 1810      | 5m 49s        | 8.43735e+06    | 0               |"
      ]
     },
     "metadata": {},
     "output_type": "display_data"
    },
    {
     "data": {
      "text/html": [
       "<pre>| 1820      | 5m 52s        | 1.13036e+07    | 0               |</pre>"
      ],
      "text/plain": [
       "| 1820      | 5m 52s        | 1.13036e+07    | 0               |"
      ]
     },
     "metadata": {},
     "output_type": "display_data"
    },
    {
     "data": {
      "text/html": [
       "<pre>| 1830      | 5m 53s        | 1.08882e+07    | 0               |</pre>"
      ],
      "text/plain": [
       "| 1830      | 5m 53s        | 1.08882e+07    | 0               |"
      ]
     },
     "metadata": {},
     "output_type": "display_data"
    },
    {
     "data": {
      "text/html": [
       "<pre>| 1840      | 5m 55s        | 1.17295e+07    | 0               |</pre>"
      ],
      "text/plain": [
       "| 1840      | 5m 55s        | 1.17295e+07    | 0               |"
      ]
     },
     "metadata": {},
     "output_type": "display_data"
    },
    {
     "data": {
      "text/html": [
       "<pre>| 1850      | 5m 57s        | 1.2035e+07     | 0               |</pre>"
      ],
      "text/plain": [
       "| 1850      | 5m 57s        | 1.2035e+07     | 0               |"
      ]
     },
     "metadata": {},
     "output_type": "display_data"
    },
    {
     "data": {
      "text/html": [
       "<pre>| 1860      | 5m 59s        | 1.2364e+07     | 0               |</pre>"
      ],
      "text/plain": [
       "| 1860      | 5m 59s        | 1.2364e+07     | 0               |"
      ]
     },
     "metadata": {},
     "output_type": "display_data"
    },
    {
     "data": {
      "text/html": [
       "<pre>| 1870      | 6m 1s         | 1.1471e+07     | 0               |</pre>"
      ],
      "text/plain": [
       "| 1870      | 6m 1s         | 1.1471e+07     | 0               |"
      ]
     },
     "metadata": {},
     "output_type": "display_data"
    },
    {
     "data": {
      "text/html": [
       "<pre>| 1880      | 6m 3s         | 1.11833e+07    | 0               |</pre>"
      ],
      "text/plain": [
       "| 1880      | 6m 3s         | 1.11833e+07    | 0               |"
      ]
     },
     "metadata": {},
     "output_type": "display_data"
    },
    {
     "data": {
      "text/html": [
       "<pre>| 1890      | 6m 5s         | 1.22193e+07    | 0               |</pre>"
      ],
      "text/plain": [
       "| 1890      | 6m 5s         | 1.22193e+07    | 0               |"
      ]
     },
     "metadata": {},
     "output_type": "display_data"
    },
    {
     "data": {
      "text/html": [
       "<pre>| 1900      | 6m 7s         | 1.17585e+07    | 0               |</pre>"
      ],
      "text/plain": [
       "| 1900      | 6m 7s         | 1.17585e+07    | 0               |"
      ]
     },
     "metadata": {},
     "output_type": "display_data"
    },
    {
     "data": {
      "text/html": [
       "<pre>| 1910      | 6m 9s         | 1.26121e+07    | 0               |</pre>"
      ],
      "text/plain": [
       "| 1910      | 6m 9s         | 1.26121e+07    | 0               |"
      ]
     },
     "metadata": {},
     "output_type": "display_data"
    },
    {
     "data": {
      "text/html": [
       "<pre>| 1920      | 6m 11s        | 1.21044e+07    | 0               |</pre>"
      ],
      "text/plain": [
       "| 1920      | 6m 11s        | 1.21044e+07    | 0               |"
      ]
     },
     "metadata": {},
     "output_type": "display_data"
    },
    {
     "data": {
      "text/html": [
       "<pre>| 1930      | 6m 12s        | 1.2295e+07     | 0               |</pre>"
      ],
      "text/plain": [
       "| 1930      | 6m 12s        | 1.2295e+07     | 0               |"
      ]
     },
     "metadata": {},
     "output_type": "display_data"
    },
    {
     "data": {
      "text/html": [
       "<pre>| 1940      | 6m 14s        | 1.21473e+07    | 0               |</pre>"
      ],
      "text/plain": [
       "| 1940      | 6m 14s        | 1.21473e+07    | 0               |"
      ]
     },
     "metadata": {},
     "output_type": "display_data"
    },
    {
     "data": {
      "text/html": [
       "<pre>| 1950      | 6m 16s        | 1.24197e+07    | 0               |</pre>"
      ],
      "text/plain": [
       "| 1950      | 6m 16s        | 1.24197e+07    | 0               |"
      ]
     },
     "metadata": {},
     "output_type": "display_data"
    },
    {
     "data": {
      "text/html": [
       "<pre>| 1960      | 6m 18s        | 1.18862e+07    | 0               |</pre>"
      ],
      "text/plain": [
       "| 1960      | 6m 18s        | 1.18862e+07    | 0               |"
      ]
     },
     "metadata": {},
     "output_type": "display_data"
    },
    {
     "data": {
      "text/html": [
       "<pre>| 1970      | 6m 20s        | 1.13159e+07    | 0               |</pre>"
      ],
      "text/plain": [
       "| 1970      | 6m 20s        | 1.13159e+07    | 0               |"
      ]
     },
     "metadata": {},
     "output_type": "display_data"
    },
    {
     "data": {
      "text/html": [
       "<pre>| 1980      | 6m 22s        | 1.10729e+07    | 0               |</pre>"
      ],
      "text/plain": [
       "| 1980      | 6m 22s        | 1.10729e+07    | 0               |"
      ]
     },
     "metadata": {},
     "output_type": "display_data"
    },
    {
     "data": {
      "text/html": [
       "<pre>| 1990      | 6m 23s        | 1.24734e+07    | 0               |</pre>"
      ],
      "text/plain": [
       "| 1990      | 6m 23s        | 1.24734e+07    | 0               |"
      ]
     },
     "metadata": {},
     "output_type": "display_data"
    },
    {
     "data": {
      "text/html": [
       "<pre>| 2000      | 6m 25s        | 1.25233e+07    | 0               |</pre>"
      ],
      "text/plain": [
       "| 2000      | 6m 25s        | 1.25233e+07    | 0               |"
      ]
     },
     "metadata": {},
     "output_type": "display_data"
    },
    {
     "data": {
      "text/html": [
       "<pre>| 2010      | 6m 27s        | 1.04722e+07    | 0               |</pre>"
      ],
      "text/plain": [
       "| 2010      | 6m 27s        | 1.04722e+07    | 0               |"
      ]
     },
     "metadata": {},
     "output_type": "display_data"
    },
    {
     "data": {
      "text/html": [
       "<pre>| 2020      | 6m 29s        | 1.20588e+07    | 0               |</pre>"
      ],
      "text/plain": [
       "| 2020      | 6m 29s        | 1.20588e+07    | 0               |"
      ]
     },
     "metadata": {},
     "output_type": "display_data"
    },
    {
     "data": {
      "text/html": [
       "<pre>| 2030      | 6m 31s        | 1.25937e+07    | 0               |</pre>"
      ],
      "text/plain": [
       "| 2030      | 6m 31s        | 1.25937e+07    | 0               |"
      ]
     },
     "metadata": {},
     "output_type": "display_data"
    },
    {
     "data": {
      "text/html": [
       "<pre>| 2040      | 6m 32s        | 1.26489e+07    | 0               |</pre>"
      ],
      "text/plain": [
       "| 2040      | 6m 32s        | 1.26489e+07    | 0               |"
      ]
     },
     "metadata": {},
     "output_type": "display_data"
    },
    {
     "data": {
      "text/html": [
       "<pre>| 2050      | 6m 34s        | 1.24739e+07    | 0               |</pre>"
      ],
      "text/plain": [
       "| 2050      | 6m 34s        | 1.24739e+07    | 0               |"
      ]
     },
     "metadata": {},
     "output_type": "display_data"
    },
    {
     "data": {
      "text/html": [
       "<pre>| 2060      | 6m 36s        | 1.22568e+07    | 0               |</pre>"
      ],
      "text/plain": [
       "| 2060      | 6m 36s        | 1.22568e+07    | 0               |"
      ]
     },
     "metadata": {},
     "output_type": "display_data"
    },
    {
     "data": {
      "text/html": [
       "<pre>| 2070      | 6m 38s        | 1.09446e+07    | 0               |</pre>"
      ],
      "text/plain": [
       "| 2070      | 6m 38s        | 1.09446e+07    | 0               |"
      ]
     },
     "metadata": {},
     "output_type": "display_data"
    },
    {
     "data": {
      "text/html": [
       "<pre>| 2080      | 6m 40s        | 1.20222e+07    | 0               |</pre>"
      ],
      "text/plain": [
       "| 2080      | 6m 40s        | 1.20222e+07    | 0               |"
      ]
     },
     "metadata": {},
     "output_type": "display_data"
    },
    {
     "data": {
      "text/html": [
       "<pre>| 2090      | 6m 41s        | 1.24508e+07    | 0               |</pre>"
      ],
      "text/plain": [
       "| 2090      | 6m 41s        | 1.24508e+07    | 0               |"
      ]
     },
     "metadata": {},
     "output_type": "display_data"
    },
    {
     "data": {
      "text/html": [
       "<pre>| 2100      | 6m 43s        | 1.22304e+07    | 0               |</pre>"
      ],
      "text/plain": [
       "| 2100      | 6m 43s        | 1.22304e+07    | 0               |"
      ]
     },
     "metadata": {},
     "output_type": "display_data"
    },
    {
     "data": {
      "text/html": [
       "<pre>| 2110      | 6m 45s        | 1.28821e+07    | 0               |</pre>"
      ],
      "text/plain": [
       "| 2110      | 6m 45s        | 1.28821e+07    | 0               |"
      ]
     },
     "metadata": {},
     "output_type": "display_data"
    },
    {
     "data": {
      "text/html": [
       "<pre>| 2120      | 6m 47s        | 1.26749e+07    | 0               |</pre>"
      ],
      "text/plain": [
       "| 2120      | 6m 47s        | 1.26749e+07    | 0               |"
      ]
     },
     "metadata": {},
     "output_type": "display_data"
    },
    {
     "data": {
      "text/html": [
       "<pre>| 2130      | 6m 48s        | 1.24312e+07    | 0               |</pre>"
      ],
      "text/plain": [
       "| 2130      | 6m 48s        | 1.24312e+07    | 0               |"
      ]
     },
     "metadata": {},
     "output_type": "display_data"
    },
    {
     "data": {
      "text/html": [
       "<pre>| 2140      | 6m 50s        | 1.22675e+07    | 0               |</pre>"
      ],
      "text/plain": [
       "| 2140      | 6m 50s        | 1.22675e+07    | 0               |"
      ]
     },
     "metadata": {},
     "output_type": "display_data"
    },
    {
     "data": {
      "text/html": [
       "<pre>| 2150      | 6m 52s        | 1.23387e+07    | 0               |</pre>"
      ],
      "text/plain": [
       "| 2150      | 6m 52s        | 1.23387e+07    | 0               |"
      ]
     },
     "metadata": {},
     "output_type": "display_data"
    },
    {
     "data": {
      "text/html": [
       "<pre>| 2160      | 6m 54s        | 1.25903e+07    | 0               |</pre>"
      ],
      "text/plain": [
       "| 2160      | 6m 54s        | 1.25903e+07    | 0               |"
      ]
     },
     "metadata": {},
     "output_type": "display_data"
    },
    {
     "data": {
      "text/html": [
       "<pre>| 2170      | 6m 56s        | 1.18071e+07    | 0               |</pre>"
      ],
      "text/plain": [
       "| 2170      | 6m 56s        | 1.18071e+07    | 0               |"
      ]
     },
     "metadata": {},
     "output_type": "display_data"
    },
    {
     "data": {
      "text/html": [
       "<pre>| 2180      | 6m 58s        | 1.20394e+07    | 0               |</pre>"
      ],
      "text/plain": [
       "| 2180      | 6m 58s        | 1.20394e+07    | 0               |"
      ]
     },
     "metadata": {},
     "output_type": "display_data"
    },
    {
     "data": {
      "text/html": [
       "<pre>| 2190      | 7m 0s         | 1.05737e+07    | 0               |</pre>"
      ],
      "text/plain": [
       "| 2190      | 7m 0s         | 1.05737e+07    | 0               |"
      ]
     },
     "metadata": {},
     "output_type": "display_data"
    },
    {
     "data": {
      "text/html": [
       "<pre>| 2200      | 7m 1s         | 1.19847e+07    | 0               |</pre>"
      ],
      "text/plain": [
       "| 2200      | 7m 1s         | 1.19847e+07    | 0               |"
      ]
     },
     "metadata": {},
     "output_type": "display_data"
    },
    {
     "data": {
      "text/html": [
       "<pre>| 2210      | 7m 3s         | 1.27881e+07    | 0               |</pre>"
      ],
      "text/plain": [
       "| 2210      | 7m 3s         | 1.27881e+07    | 0               |"
      ]
     },
     "metadata": {},
     "output_type": "display_data"
    },
    {
     "data": {
      "text/html": [
       "<pre>| 2220      | 7m 5s         | 9.80128e+06    | 0               |</pre>"
      ],
      "text/plain": [
       "| 2220      | 7m 5s         | 9.80128e+06    | 0               |"
      ]
     },
     "metadata": {},
     "output_type": "display_data"
    },
    {
     "data": {
      "text/html": [
       "<pre>| 2230      | 7m 7s         | 1.18221e+07    | 0               |</pre>"
      ],
      "text/plain": [
       "| 2230      | 7m 7s         | 1.18221e+07    | 0               |"
      ]
     },
     "metadata": {},
     "output_type": "display_data"
    },
    {
     "data": {
      "text/html": [
       "<pre>| 2240      | 7m 9s         | 1.24155e+07    | 0               |</pre>"
      ],
      "text/plain": [
       "| 2240      | 7m 9s         | 1.24155e+07    | 0               |"
      ]
     },
     "metadata": {},
     "output_type": "display_data"
    },
    {
     "data": {
      "text/html": [
       "<pre>| 2250      | 7m 11s        | 1.28495e+07    | 0               |</pre>"
      ],
      "text/plain": [
       "| 2250      | 7m 11s        | 1.28495e+07    | 0               |"
      ]
     },
     "metadata": {},
     "output_type": "display_data"
    },
    {
     "data": {
      "text/html": [
       "<pre>| 2260      | 7m 13s        | 1.21989e+07    | 0               |</pre>"
      ],
      "text/plain": [
       "| 2260      | 7m 13s        | 1.21989e+07    | 0               |"
      ]
     },
     "metadata": {},
     "output_type": "display_data"
    },
    {
     "data": {
      "text/html": [
       "<pre>| 2270      | 7m 15s        | 1.07593e+07    | 0               |</pre>"
      ],
      "text/plain": [
       "| 2270      | 7m 15s        | 1.07593e+07    | 0               |"
      ]
     },
     "metadata": {},
     "output_type": "display_data"
    },
    {
     "data": {
      "text/html": [
       "<pre>| 2280      | 7m 17s        | 1.1829e+07     | 0               |</pre>"
      ],
      "text/plain": [
       "| 2280      | 7m 17s        | 1.1829e+07     | 0               |"
      ]
     },
     "metadata": {},
     "output_type": "display_data"
    },
    {
     "data": {
      "text/html": [
       "<pre>| 2290      | 7m 18s        | 1.18184e+07    | 0               |</pre>"
      ],
      "text/plain": [
       "| 2290      | 7m 18s        | 1.18184e+07    | 0               |"
      ]
     },
     "metadata": {},
     "output_type": "display_data"
    },
    {
     "data": {
      "text/html": [
       "<pre>| 2300      | 7m 20s        | 1.21711e+07    | 0               |</pre>"
      ],
      "text/plain": [
       "| 2300      | 7m 20s        | 1.21711e+07    | 0               |"
      ]
     },
     "metadata": {},
     "output_type": "display_data"
    },
    {
     "data": {
      "text/html": [
       "<pre>| 2310      | 7m 22s        | 1.02665e+07    | 0               |</pre>"
      ],
      "text/plain": [
       "| 2310      | 7m 22s        | 1.02665e+07    | 0               |"
      ]
     },
     "metadata": {},
     "output_type": "display_data"
    },
    {
     "data": {
      "text/html": [
       "<pre>| 2320      | 7m 24s        | 1.18183e+07    | 0               |</pre>"
      ],
      "text/plain": [
       "| 2320      | 7m 24s        | 1.18183e+07    | 0               |"
      ]
     },
     "metadata": {},
     "output_type": "display_data"
    },
    {
     "data": {
      "text/html": [
       "<pre>| 2330      | 7m 26s        | 1.11519e+07    | 0               |</pre>"
      ],
      "text/plain": [
       "| 2330      | 7m 26s        | 1.11519e+07    | 0               |"
      ]
     },
     "metadata": {},
     "output_type": "display_data"
    },
    {
     "data": {
      "text/html": [
       "<pre>| 2340      | 7m 28s        | 1.1308e+07     | 0               |</pre>"
      ],
      "text/plain": [
       "| 2340      | 7m 28s        | 1.1308e+07     | 0               |"
      ]
     },
     "metadata": {},
     "output_type": "display_data"
    },
    {
     "data": {
      "text/html": [
       "<pre>| 2350      | 7m 30s        | 1.22221e+07    | 0               |</pre>"
      ],
      "text/plain": [
       "| 2350      | 7m 30s        | 1.22221e+07    | 0               |"
      ]
     },
     "metadata": {},
     "output_type": "display_data"
    },
    {
     "data": {
      "text/html": [
       "<pre>| 2360      | 7m 32s        | 1.06198e+07    | 0               |</pre>"
      ],
      "text/plain": [
       "| 2360      | 7m 32s        | 1.06198e+07    | 0               |"
      ]
     },
     "metadata": {},
     "output_type": "display_data"
    },
    {
     "data": {
      "text/html": [
       "<pre>| 2370      | 7m 34s        | 1.14554e+07    | 0               |</pre>"
      ],
      "text/plain": [
       "| 2370      | 7m 34s        | 1.14554e+07    | 0               |"
      ]
     },
     "metadata": {},
     "output_type": "display_data"
    },
    {
     "data": {
      "text/html": [
       "<pre>| 2380      | 7m 36s        | 9.58332e+06    | 0               |</pre>"
      ],
      "text/plain": [
       "| 2380      | 7m 36s        | 9.58332e+06    | 0               |"
      ]
     },
     "metadata": {},
     "output_type": "display_data"
    },
    {
     "data": {
      "text/html": [
       "<pre>| 2390      | 7m 38s        | 1.26805e+07    | 0               |</pre>"
      ],
      "text/plain": [
       "| 2390      | 7m 38s        | 1.26805e+07    | 0               |"
      ]
     },
     "metadata": {},
     "output_type": "display_data"
    },
    {
     "data": {
      "text/html": [
       "<pre>| 2400      | 7m 40s        | 1.22437e+07    | 0               |</pre>"
      ],
      "text/plain": [
       "| 2400      | 7m 40s        | 1.22437e+07    | 0               |"
      ]
     },
     "metadata": {},
     "output_type": "display_data"
    },
    {
     "data": {
      "text/html": [
       "<pre>| 2410      | 7m 42s        | 1.11386e+07    | 0               |</pre>"
      ],
      "text/plain": [
       "| 2410      | 7m 42s        | 1.11386e+07    | 0               |"
      ]
     },
     "metadata": {},
     "output_type": "display_data"
    },
    {
     "data": {
      "text/html": [
       "<pre>| 2420      | 7m 44s        | 1.01169e+07    | 0               |</pre>"
      ],
      "text/plain": [
       "| 2420      | 7m 44s        | 1.01169e+07    | 0               |"
      ]
     },
     "metadata": {},
     "output_type": "display_data"
    },
    {
     "data": {
      "text/html": [
       "<pre>| 2430      | 7m 46s        | 1.09237e+07    | 0               |</pre>"
      ],
      "text/plain": [
       "| 2430      | 7m 46s        | 1.09237e+07    | 0               |"
      ]
     },
     "metadata": {},
     "output_type": "display_data"
    },
    {
     "data": {
      "text/html": [
       "<pre>| 2440      | 7m 48s        | 1.01409e+07    | 0               |</pre>"
      ],
      "text/plain": [
       "| 2440      | 7m 48s        | 1.01409e+07    | 0               |"
      ]
     },
     "metadata": {},
     "output_type": "display_data"
    },
    {
     "data": {
      "text/html": [
       "<pre>| 2450      | 7m 50s        | 1.20425e+07    | 0               |</pre>"
      ],
      "text/plain": [
       "| 2450      | 7m 50s        | 1.20425e+07    | 0               |"
      ]
     },
     "metadata": {},
     "output_type": "display_data"
    },
    {
     "data": {
      "text/html": [
       "<pre>| 2460      | 7m 52s        | 1.2257e+07     | 0               |</pre>"
      ],
      "text/plain": [
       "| 2460      | 7m 52s        | 1.2257e+07     | 0               |"
      ]
     },
     "metadata": {},
     "output_type": "display_data"
    },
    {
     "data": {
      "text/html": [
       "<pre>| 2470      | 7m 54s        | 1.18766e+07    | 0               |</pre>"
      ],
      "text/plain": [
       "| 2470      | 7m 54s        | 1.18766e+07    | 0               |"
      ]
     },
     "metadata": {},
     "output_type": "display_data"
    },
    {
     "data": {
      "text/html": [
       "<pre>| 2480      | 7m 55s        | 1.14421e+07    | 0               |</pre>"
      ],
      "text/plain": [
       "| 2480      | 7m 55s        | 1.14421e+07    | 0               |"
      ]
     },
     "metadata": {},
     "output_type": "display_data"
    },
    {
     "data": {
      "text/html": [
       "<pre>| 2490      | 7m 57s        | 1.17321e+07    | 0               |</pre>"
      ],
      "text/plain": [
       "| 2490      | 7m 57s        | 1.17321e+07    | 0               |"
      ]
     },
     "metadata": {},
     "output_type": "display_data"
    },
    {
     "data": {
      "text/html": [
       "<pre>| 2500      | 7m 59s        | 1.18304e+07    | 0               |</pre>"
      ],
      "text/plain": [
       "| 2500      | 7m 59s        | 1.18304e+07    | 0               |"
      ]
     },
     "metadata": {},
     "output_type": "display_data"
    },
    {
     "data": {
      "text/html": [
       "<pre>| 2510      | 8m 1s         | 1.18153e+07    | 0               |</pre>"
      ],
      "text/plain": [
       "| 2510      | 8m 1s         | 1.18153e+07    | 0               |"
      ]
     },
     "metadata": {},
     "output_type": "display_data"
    },
    {
     "data": {
      "text/html": [
       "<pre>| 2520      | 8m 3s         | 1.21346e+07    | 0               |</pre>"
      ],
      "text/plain": [
       "| 2520      | 8m 3s         | 1.21346e+07    | 0               |"
      ]
     },
     "metadata": {},
     "output_type": "display_data"
    },
    {
     "data": {
      "text/html": [
       "<pre>| 2530      | 8m 5s         | 1.15939e+07    | 0               |</pre>"
      ],
      "text/plain": [
       "| 2530      | 8m 5s         | 1.15939e+07    | 0               |"
      ]
     },
     "metadata": {},
     "output_type": "display_data"
    },
    {
     "data": {
      "text/html": [
       "<pre>| 2540      | 8m 7s         | 1.19048e+07    | 0               |</pre>"
      ],
      "text/plain": [
       "| 2540      | 8m 7s         | 1.19048e+07    | 0               |"
      ]
     },
     "metadata": {},
     "output_type": "display_data"
    },
    {
     "data": {
      "text/html": [
       "<pre>| 2550      | 8m 9s         | 1.144e+07      | 0               |</pre>"
      ],
      "text/plain": [
       "| 2550      | 8m 9s         | 1.144e+07      | 0               |"
      ]
     },
     "metadata": {},
     "output_type": "display_data"
    },
    {
     "data": {
      "text/html": [
       "<pre>| 2560      | 8m 11s        | 1.19653e+07    | 0               |</pre>"
      ],
      "text/plain": [
       "| 2560      | 8m 11s        | 1.19653e+07    | 0               |"
      ]
     },
     "metadata": {},
     "output_type": "display_data"
    },
    {
     "data": {
      "text/html": [
       "<pre>| 2570      | 8m 13s        | 1.08476e+07    | 0               |</pre>"
      ],
      "text/plain": [
       "| 2570      | 8m 13s        | 1.08476e+07    | 0               |"
      ]
     },
     "metadata": {},
     "output_type": "display_data"
    },
    {
     "data": {
      "text/html": [
       "<pre>| 2580      | 8m 15s        | 1.13664e+07    | 0               |</pre>"
      ],
      "text/plain": [
       "| 2580      | 8m 15s        | 1.13664e+07    | 0               |"
      ]
     },
     "metadata": {},
     "output_type": "display_data"
    },
    {
     "data": {
      "text/html": [
       "<pre>| 2590      | 8m 17s        | 1.23015e+07    | 0               |</pre>"
      ],
      "text/plain": [
       "| 2590      | 8m 17s        | 1.23015e+07    | 0               |"
      ]
     },
     "metadata": {},
     "output_type": "display_data"
    },
    {
     "data": {
      "text/html": [
       "<pre>| 2600      | 8m 18s        | 1.24105e+07    | 0               |</pre>"
      ],
      "text/plain": [
       "| 2600      | 8m 18s        | 1.24105e+07    | 0               |"
      ]
     },
     "metadata": {},
     "output_type": "display_data"
    },
    {
     "data": {
      "text/html": [
       "<pre>| 2610      | 8m 20s        | 1.26581e+07    | 0               |</pre>"
      ],
      "text/plain": [
       "| 2610      | 8m 20s        | 1.26581e+07    | 0               |"
      ]
     },
     "metadata": {},
     "output_type": "display_data"
    },
    {
     "data": {
      "text/html": [
       "<pre>| 2620      | 8m 22s        | 1.24151e+07    | 0               |</pre>"
      ],
      "text/plain": [
       "| 2620      | 8m 22s        | 1.24151e+07    | 0               |"
      ]
     },
     "metadata": {},
     "output_type": "display_data"
    },
    {
     "data": {
      "text/html": [
       "<pre>| 2630      | 8m 24s        | 1.19798e+07    | 0               |</pre>"
      ],
      "text/plain": [
       "| 2630      | 8m 24s        | 1.19798e+07    | 0               |"
      ]
     },
     "metadata": {},
     "output_type": "display_data"
    },
    {
     "data": {
      "text/html": [
       "<pre>| 2640      | 8m 26s        | 1.04646e+07    | 0               |</pre>"
      ],
      "text/plain": [
       "| 2640      | 8m 26s        | 1.04646e+07    | 0               |"
      ]
     },
     "metadata": {},
     "output_type": "display_data"
    },
    {
     "data": {
      "text/html": [
       "<pre>| 2650      | 8m 28s        | 1.17336e+07    | 0               |</pre>"
      ],
      "text/plain": [
       "| 2650      | 8m 28s        | 1.17336e+07    | 0               |"
      ]
     },
     "metadata": {},
     "output_type": "display_data"
    },
    {
     "data": {
      "text/html": [
       "<pre>| 2660      | 8m 30s        | 1.18589e+07    | 0               |</pre>"
      ],
      "text/plain": [
       "| 2660      | 8m 30s        | 1.18589e+07    | 0               |"
      ]
     },
     "metadata": {},
     "output_type": "display_data"
    },
    {
     "data": {
      "text/html": [
       "<pre>| 2670      | 8m 32s        | 1.18645e+07    | 0               |</pre>"
      ],
      "text/plain": [
       "| 2670      | 8m 32s        | 1.18645e+07    | 0               |"
      ]
     },
     "metadata": {},
     "output_type": "display_data"
    },
    {
     "data": {
      "text/html": [
       "<pre>| 2680      | 8m 34s        | 1.16267e+07    | 0               |</pre>"
      ],
      "text/plain": [
       "| 2680      | 8m 34s        | 1.16267e+07    | 0               |"
      ]
     },
     "metadata": {},
     "output_type": "display_data"
    },
    {
     "data": {
      "text/html": [
       "<pre>| 2690      | 8m 35s        | 1.13976e+07    | 0               |</pre>"
      ],
      "text/plain": [
       "| 2690      | 8m 35s        | 1.13976e+07    | 0               |"
      ]
     },
     "metadata": {},
     "output_type": "display_data"
    },
    {
     "data": {
      "text/html": [
       "<pre>| 2700      | 8m 37s        | 1.17204e+07    | 0               |</pre>"
      ],
      "text/plain": [
       "| 2700      | 8m 37s        | 1.17204e+07    | 0               |"
      ]
     },
     "metadata": {},
     "output_type": "display_data"
    },
    {
     "data": {
      "text/html": [
       "<pre>| 2710      | 8m 39s        | 1.19817e+07    | 0               |</pre>"
      ],
      "text/plain": [
       "| 2710      | 8m 39s        | 1.19817e+07    | 0               |"
      ]
     },
     "metadata": {},
     "output_type": "display_data"
    },
    {
     "data": {
      "text/html": [
       "<pre>| 2720      | 8m 41s        | 9.21587e+06    | 0               |</pre>"
      ],
      "text/plain": [
       "| 2720      | 8m 41s        | 9.21587e+06    | 0               |"
      ]
     },
     "metadata": {},
     "output_type": "display_data"
    },
    {
     "data": {
      "text/html": [
       "<pre>| 2730      | 8m 43s        | 1.08893e+07    | 0               |</pre>"
      ],
      "text/plain": [
       "| 2730      | 8m 43s        | 1.08893e+07    | 0               |"
      ]
     },
     "metadata": {},
     "output_type": "display_data"
    },
    {
     "data": {
      "text/html": [
       "<pre>| 2740      | 8m 45s        | 1.182e+07      | 0               |</pre>"
      ],
      "text/plain": [
       "| 2740      | 8m 45s        | 1.182e+07      | 0               |"
      ]
     },
     "metadata": {},
     "output_type": "display_data"
    },
    {
     "data": {
      "text/html": [
       "<pre>| 2750      | 8m 47s        | 1.23461e+07    | 0               |</pre>"
      ],
      "text/plain": [
       "| 2750      | 8m 47s        | 1.23461e+07    | 0               |"
      ]
     },
     "metadata": {},
     "output_type": "display_data"
    },
    {
     "data": {
      "text/html": [
       "<pre>| 2760      | 8m 49s        | 1.15519e+07    | 0               |</pre>"
      ],
      "text/plain": [
       "| 2760      | 8m 49s        | 1.15519e+07    | 0               |"
      ]
     },
     "metadata": {},
     "output_type": "display_data"
    },
    {
     "data": {
      "text/html": [
       "<pre>| 2770      | 8m 50s        | 1.20404e+07    | 0               |</pre>"
      ],
      "text/plain": [
       "| 2770      | 8m 50s        | 1.20404e+07    | 0               |"
      ]
     },
     "metadata": {},
     "output_type": "display_data"
    },
    {
     "data": {
      "text/html": [
       "<pre>| 2780      | 8m 52s        | 1.08129e+07    | 0               |</pre>"
      ],
      "text/plain": [
       "| 2780      | 8m 52s        | 1.08129e+07    | 0               |"
      ]
     },
     "metadata": {},
     "output_type": "display_data"
    },
    {
     "data": {
      "text/html": [
       "<pre>| 2790      | 8m 54s        | 1.18958e+07    | 0               |</pre>"
      ],
      "text/plain": [
       "| 2790      | 8m 54s        | 1.18958e+07    | 0               |"
      ]
     },
     "metadata": {},
     "output_type": "display_data"
    },
    {
     "data": {
      "text/html": [
       "<pre>| 2800      | 8m 56s        | 1.2713e+07     | 0               |</pre>"
      ],
      "text/plain": [
       "| 2800      | 8m 56s        | 1.2713e+07     | 0               |"
      ]
     },
     "metadata": {},
     "output_type": "display_data"
    },
    {
     "data": {
      "text/html": [
       "<pre>| 2810      | 8m 58s        | 1.26088e+07    | 0               |</pre>"
      ],
      "text/plain": [
       "| 2810      | 8m 58s        | 1.26088e+07    | 0               |"
      ]
     },
     "metadata": {},
     "output_type": "display_data"
    },
    {
     "data": {
      "text/html": [
       "<pre>| 2820      | 8m 59s        | 1.23478e+07    | 0               |</pre>"
      ],
      "text/plain": [
       "| 2820      | 8m 59s        | 1.23478e+07    | 0               |"
      ]
     },
     "metadata": {},
     "output_type": "display_data"
    },
    {
     "data": {
      "text/html": [
       "<pre>| 2830      | 9m 1s         | 1.15749e+07    | 0               |</pre>"
      ],
      "text/plain": [
       "| 2830      | 9m 1s         | 1.15749e+07    | 0               |"
      ]
     },
     "metadata": {},
     "output_type": "display_data"
    },
    {
     "data": {
      "text/html": [
       "<pre>| 2840      | 9m 3s         | 1.19042e+07    | 0               |</pre>"
      ],
      "text/plain": [
       "| 2840      | 9m 3s         | 1.19042e+07    | 0               |"
      ]
     },
     "metadata": {},
     "output_type": "display_data"
    },
    {
     "data": {
      "text/html": [
       "<pre>| 2850      | 9m 5s         | 1.10267e+07    | 0               |</pre>"
      ],
      "text/plain": [
       "| 2850      | 9m 5s         | 1.10267e+07    | 0               |"
      ]
     },
     "metadata": {},
     "output_type": "display_data"
    },
    {
     "data": {
      "text/html": [
       "<pre>| 2860      | 9m 7s         | 1.06989e+07    | 0               |</pre>"
      ],
      "text/plain": [
       "| 2860      | 9m 7s         | 1.06989e+07    | 0               |"
      ]
     },
     "metadata": {},
     "output_type": "display_data"
    },
    {
     "data": {
      "text/html": [
       "<pre>| 2870      | 9m 8s         | 1.25686e+07    | 0               |</pre>"
      ],
      "text/plain": [
       "| 2870      | 9m 8s         | 1.25686e+07    | 0               |"
      ]
     },
     "metadata": {},
     "output_type": "display_data"
    },
    {
     "data": {
      "text/html": [
       "<pre>| 2880      | 9m 10s        | 1.26434e+07    | 0               |</pre>"
      ],
      "text/plain": [
       "| 2880      | 9m 10s        | 1.26434e+07    | 0               |"
      ]
     },
     "metadata": {},
     "output_type": "display_data"
    },
    {
     "data": {
      "text/html": [
       "<pre>| 2890      | 9m 12s        | 1.27333e+07    | 0               |</pre>"
      ],
      "text/plain": [
       "| 2890      | 9m 12s        | 1.27333e+07    | 0               |"
      ]
     },
     "metadata": {},
     "output_type": "display_data"
    },
    {
     "data": {
      "text/html": [
       "<pre>| 2900      | 9m 14s        | 1.15941e+07    | 0               |</pre>"
      ],
      "text/plain": [
       "| 2900      | 9m 14s        | 1.15941e+07    | 0               |"
      ]
     },
     "metadata": {},
     "output_type": "display_data"
    },
    {
     "data": {
      "text/html": [
       "<pre>| 2910      | 9m 16s        | 1.18605e+07    | 0               |</pre>"
      ],
      "text/plain": [
       "| 2910      | 9m 16s        | 1.18605e+07    | 0               |"
      ]
     },
     "metadata": {},
     "output_type": "display_data"
    },
    {
     "data": {
      "text/html": [
       "<pre>| 2920      | 9m 17s        | 1.26796e+07    | 0               |</pre>"
      ],
      "text/plain": [
       "| 2920      | 9m 17s        | 1.26796e+07    | 0               |"
      ]
     },
     "metadata": {},
     "output_type": "display_data"
    },
    {
     "data": {
      "text/html": [
       "<pre>| 2930      | 9m 19s        | 1.23187e+07    | 0               |</pre>"
      ],
      "text/plain": [
       "| 2930      | 9m 19s        | 1.23187e+07    | 0               |"
      ]
     },
     "metadata": {},
     "output_type": "display_data"
    },
    {
     "data": {
      "text/html": [
       "<pre>| 2940      | 9m 21s        | 1.27747e+07    | 0               |</pre>"
      ],
      "text/plain": [
       "| 2940      | 9m 21s        | 1.27747e+07    | 0               |"
      ]
     },
     "metadata": {},
     "output_type": "display_data"
    },
    {
     "data": {
      "text/html": [
       "<pre>| 2950      | 9m 23s        | 1.24864e+07    | 0               |</pre>"
      ],
      "text/plain": [
       "| 2950      | 9m 23s        | 1.24864e+07    | 0               |"
      ]
     },
     "metadata": {},
     "output_type": "display_data"
    },
    {
     "data": {
      "text/html": [
       "<pre>| 2960      | 9m 24s        | 1.23055e+07    | 0               |</pre>"
      ],
      "text/plain": [
       "| 2960      | 9m 24s        | 1.23055e+07    | 0               |"
      ]
     },
     "metadata": {},
     "output_type": "display_data"
    },
    {
     "data": {
      "text/html": [
       "<pre>| 2970      | 9m 26s        | 1.18987e+07    | 0               |</pre>"
      ],
      "text/plain": [
       "| 2970      | 9m 26s        | 1.18987e+07    | 0               |"
      ]
     },
     "metadata": {},
     "output_type": "display_data"
    },
    {
     "data": {
      "text/html": [
       "<pre>| 2980      | 9m 28s        | 1.22399e+07    | 0               |</pre>"
      ],
      "text/plain": [
       "| 2980      | 9m 28s        | 1.22399e+07    | 0               |"
      ]
     },
     "metadata": {},
     "output_type": "display_data"
    },
    {
     "data": {
      "text/html": [
       "<pre>| 2990      | 9m 30s        | 1.18955e+07    | 0               |</pre>"
      ],
      "text/plain": [
       "| 2990      | 9m 30s        | 1.18955e+07    | 0               |"
      ]
     },
     "metadata": {},
     "output_type": "display_data"
    },
    {
     "data": {
      "text/html": [
       "<pre>| 3000      | 9m 32s        | 1.16526e+07    | 0               |</pre>"
      ],
      "text/plain": [
       "| 3000      | 9m 32s        | 1.16526e+07    | 0               |"
      ]
     },
     "metadata": {},
     "output_type": "display_data"
    },
    {
     "name": "stdout",
     "output_type": "stream",
     "text": [
      "CPU times: user 47min 6s, sys: 1min 46s, total: 48min 53s\n",
      "Wall time: 9min 33s\n"
     ]
    },
    {
     "data": {
      "text/html": [
       "<pre>+-----------+---------------+----------------+-----------------+</pre>"
      ],
      "text/plain": [
       "+-----------+---------------+----------------+-----------------+"
      ]
     },
     "metadata": {},
     "output_type": "display_data"
    }
   ],
   "source": [
    "%%time\n",
    "topic_model = gl.topic_model.create(docs, num_topics=15, num_iterations=3000)"
   ]
  },
  {
   "cell_type": "code",
   "execution_count": 14,
   "metadata": {},
   "outputs": [
    {
     "ename": "AttributeError",
     "evalue": "'Series' object has no attribute 'order'",
     "output_type": "error",
     "traceback": [
      "\u001b[0;31m---------------------------------------------------------------------------\u001b[0m",
      "\u001b[0;31mAttributeError\u001b[0m                            Traceback (most recent call last)",
      "\u001b[0;32m<ipython-input-14-7ab0dd57cb75>\u001b[0m in \u001b[0;36m<module>\u001b[0;34m()\u001b[0m\n\u001b[0;32m----> 1\u001b[0;31m \u001b[0mpyLDAvis\u001b[0m\u001b[0;34m.\u001b[0m\u001b[0mgraphlab\u001b[0m\u001b[0;34m.\u001b[0m\u001b[0mprepare\u001b[0m\u001b[0;34m(\u001b[0m\u001b[0mtopic_model\u001b[0m\u001b[0;34m,\u001b[0m \u001b[0mdocs\u001b[0m\u001b[0;34m)\u001b[0m\u001b[0;34m\u001b[0m\u001b[0m\n\u001b[0m",
      "\u001b[0;32m/Users/seyunkim/anaconda3/envs/GraphLabWorks/lib/python2.7/site-packages/pyLDAvis/graphlab.pyc\u001b[0m in \u001b[0;36mprepare\u001b[0;34m(topic_model, docs, **kargs)\u001b[0m\n\u001b[1;32m     68\u001b[0m     \"\"\"\n\u001b[1;32m     69\u001b[0m     \u001b[0mopts\u001b[0m \u001b[0;34m=\u001b[0m \u001b[0mfp\u001b[0m\u001b[0;34m.\u001b[0m\u001b[0mmerge\u001b[0m\u001b[0;34m(\u001b[0m\u001b[0m_extract_data\u001b[0m\u001b[0;34m(\u001b[0m\u001b[0mtopic_model\u001b[0m\u001b[0;34m,\u001b[0m \u001b[0mdocs\u001b[0m\u001b[0;34m)\u001b[0m\u001b[0;34m,\u001b[0m \u001b[0mkargs\u001b[0m\u001b[0;34m)\u001b[0m\u001b[0;34m\u001b[0m\u001b[0m\n\u001b[0;32m---> 70\u001b[0;31m     \u001b[0;32mreturn\u001b[0m \u001b[0mpyLDAvis\u001b[0m\u001b[0;34m.\u001b[0m\u001b[0mprepare\u001b[0m\u001b[0;34m(\u001b[0m\u001b[0;34m**\u001b[0m\u001b[0mopts\u001b[0m\u001b[0;34m)\u001b[0m\u001b[0;34m\u001b[0m\u001b[0m\n\u001b[0m",
      "\u001b[0;32m/Users/seyunkim/anaconda3/envs/GraphLabWorks/lib/python2.7/site-packages/pyLDAvis/_prepare.pyc\u001b[0m in \u001b[0;36mprepare\u001b[0;34m(topic_term_dists, doc_topic_dists, doc_lengths, vocab, term_frequency, R, lambda_step, mds, n_jobs, plot_opts)\u001b[0m\n\u001b[1;32m    281\u001b[0m \u001b[0;34m\u001b[0m\u001b[0m\n\u001b[1;32m    282\u001b[0m    \u001b[0mtopic_freq\u001b[0m       \u001b[0;34m=\u001b[0m \u001b[0;34m(\u001b[0m\u001b[0mdoc_topic_dists\u001b[0m\u001b[0;34m.\u001b[0m\u001b[0mT\u001b[0m \u001b[0;34m*\u001b[0m \u001b[0mdoc_lengths\u001b[0m\u001b[0;34m)\u001b[0m\u001b[0;34m.\u001b[0m\u001b[0mT\u001b[0m\u001b[0;34m.\u001b[0m\u001b[0msum\u001b[0m\u001b[0;34m(\u001b[0m\u001b[0;34m)\u001b[0m\u001b[0;34m\u001b[0m\u001b[0m\n\u001b[0;32m--> 283\u001b[0;31m    \u001b[0mtopic_proportion\u001b[0m \u001b[0;34m=\u001b[0m \u001b[0;34m(\u001b[0m\u001b[0mtopic_freq\u001b[0m \u001b[0;34m/\u001b[0m \u001b[0mtopic_freq\u001b[0m\u001b[0;34m.\u001b[0m\u001b[0msum\u001b[0m\u001b[0;34m(\u001b[0m\u001b[0;34m)\u001b[0m\u001b[0;34m)\u001b[0m\u001b[0;34m.\u001b[0m\u001b[0morder\u001b[0m\u001b[0;34m(\u001b[0m\u001b[0mascending\u001b[0m\u001b[0;34m=\u001b[0m\u001b[0mFalse\u001b[0m\u001b[0;34m)\u001b[0m\u001b[0;34m\u001b[0m\u001b[0m\n\u001b[0m\u001b[1;32m    284\u001b[0m    \u001b[0mtopic_order\u001b[0m      \u001b[0;34m=\u001b[0m \u001b[0mtopic_proportion\u001b[0m\u001b[0;34m.\u001b[0m\u001b[0mindex\u001b[0m\u001b[0;34m\u001b[0m\u001b[0m\n\u001b[1;32m    285\u001b[0m    \u001b[0;31m# reorder all data based on new ordering of topics\u001b[0m\u001b[0;34m\u001b[0m\u001b[0;34m\u001b[0m\u001b[0m\n",
      "\u001b[0;32m/Users/seyunkim/anaconda3/envs/GraphLabWorks/lib/python2.7/site-packages/pandas/core/generic.pyc\u001b[0m in \u001b[0;36m__getattr__\u001b[0;34m(self, name)\u001b[0m\n\u001b[1;32m   3612\u001b[0m             \u001b[0;32mif\u001b[0m \u001b[0mname\u001b[0m \u001b[0;32min\u001b[0m \u001b[0mself\u001b[0m\u001b[0;34m.\u001b[0m\u001b[0m_info_axis\u001b[0m\u001b[0;34m:\u001b[0m\u001b[0;34m\u001b[0m\u001b[0m\n\u001b[1;32m   3613\u001b[0m                 \u001b[0;32mreturn\u001b[0m \u001b[0mself\u001b[0m\u001b[0;34m[\u001b[0m\u001b[0mname\u001b[0m\u001b[0;34m]\u001b[0m\u001b[0;34m\u001b[0m\u001b[0m\n\u001b[0;32m-> 3614\u001b[0;31m             \u001b[0;32mreturn\u001b[0m \u001b[0mobject\u001b[0m\u001b[0;34m.\u001b[0m\u001b[0m__getattribute__\u001b[0m\u001b[0;34m(\u001b[0m\u001b[0mself\u001b[0m\u001b[0;34m,\u001b[0m \u001b[0mname\u001b[0m\u001b[0;34m)\u001b[0m\u001b[0;34m\u001b[0m\u001b[0m\n\u001b[0m\u001b[1;32m   3615\u001b[0m \u001b[0;34m\u001b[0m\u001b[0m\n\u001b[1;32m   3616\u001b[0m     \u001b[0;32mdef\u001b[0m \u001b[0m__setattr__\u001b[0m\u001b[0;34m(\u001b[0m\u001b[0mself\u001b[0m\u001b[0;34m,\u001b[0m \u001b[0mname\u001b[0m\u001b[0;34m,\u001b[0m \u001b[0mvalue\u001b[0m\u001b[0;34m)\u001b[0m\u001b[0;34m:\u001b[0m\u001b[0;34m\u001b[0m\u001b[0m\n",
      "\u001b[0;31mAttributeError\u001b[0m: 'Series' object has no attribute 'order'"
     ]
    }
   ],
   "source": [
    "pyLDAvis.graphlab.prepare(topic_model, docs)"
   ]
  },
  {
   "cell_type": "code",
   "execution_count": null,
   "metadata": {},
   "outputs": [],
   "source": []
  }
 ],
 "metadata": {
  "kernelspec": {
   "display_name": "Python 2",
   "language": "python",
   "name": "python2"
  },
  "language_info": {
   "codemirror_mode": {
    "name": "ipython",
    "version": 2
   },
   "file_extension": ".py",
   "mimetype": "text/x-python",
   "name": "python",
   "nbconvert_exporter": "python",
   "pygments_lexer": "ipython2",
   "version": "2.7.14"
  }
 },
 "nbformat": 4,
 "nbformat_minor": 2
}
